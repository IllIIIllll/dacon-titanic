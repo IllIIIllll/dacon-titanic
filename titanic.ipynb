{
 "cells": [
  {
   "cell_type": "code",
   "execution_count": 869,
   "metadata": {
    "ExecuteTime": {
     "end_time": "2020-08-02T12:26:04.010516Z",
     "start_time": "2020-08-02T12:26:04.005554Z"
    }
   },
   "outputs": [],
   "source": [
    "import math\n",
    "import pandas as pd\n",
    "import numpy as np\n",
    "\n",
    "from sklearn.preprocessing import LabelEncoder\n",
    "from sklearn.preprocessing import StandardScaler\n",
    "from sklearn.neighbors import KNeighborsClassifier\n",
    "from sklearn.linear_model import LogisticRegression\n",
    "from sklearn.ensemble import RandomForestClassifier\n",
    "from sklearn.svm import SVC\n",
    "from xgboost import XGBClassifier\n",
    "from sklearn.ensemble import VotingClassifier\n",
    "\n",
    "from sklearn.model_selection import cross_val_score\n",
    "from sklearn.model_selection import GridSearchCV\n",
    "from sklearn.model_selection import cross_val_predict\n",
    "from sklearn import model_selection"
   ]
  },
  {
   "cell_type": "code",
   "execution_count": 870,
   "metadata": {
    "ExecuteTime": {
     "end_time": "2020-08-02T12:26:04.243925Z",
     "start_time": "2020-08-02T12:26:04.232921Z"
    }
   },
   "outputs": [],
   "source": [
    "train = pd.read_csv('D:/JISUNG/dacon/titanic/data/train.csv')\n",
    "test = pd.read_csv('D:/JISUNG/dacon/titanic/data/test.csv')"
   ]
  },
  {
   "cell_type": "code",
   "execution_count": 871,
   "metadata": {
    "ExecuteTime": {
     "end_time": "2020-08-02T12:26:04.469290Z",
     "start_time": "2020-08-02T12:26:04.461311Z"
    }
   },
   "outputs": [],
   "source": [
    "y_train = train['Survived'].values\n",
    "passId = test['PassengerId']\n",
    "data = pd.concat((train, test))"
   ]
  },
  {
   "cell_type": "markdown",
   "metadata": {},
   "source": [
    "인덱스 리셋"
   ]
  },
  {
   "cell_type": "code",
   "execution_count": 872,
   "metadata": {
    "ExecuteTime": {
     "end_time": "2020-08-02T12:26:04.664787Z",
     "start_time": "2020-08-02T12:26:04.659780Z"
    }
   },
   "outputs": [],
   "source": [
    "data = data.reset_index(drop=True)"
   ]
  },
  {
   "cell_type": "markdown",
   "metadata": {},
   "source": [
    "Fare 결측치를 평균으로 치환"
   ]
  },
  {
   "cell_type": "code",
   "execution_count": 873,
   "metadata": {
    "ExecuteTime": {
     "end_time": "2020-08-02T12:26:04.903875Z",
     "start_time": "2020-08-02T12:26:04.899912Z"
    }
   },
   "outputs": [],
   "source": [
    "data['Fare'].fillna(data['Fare'].mean(), inplace=True)"
   ]
  },
  {
   "cell_type": "markdown",
   "metadata": {},
   "source": [
    "이름에서 성만 추출"
   ]
  },
  {
   "cell_type": "code",
   "execution_count": 874,
   "metadata": {
    "ExecuteTime": {
     "end_time": "2020-08-02T12:26:05.205596Z",
     "start_time": "2020-08-02T12:26:05.199645Z"
    }
   },
   "outputs": [],
   "source": [
    "data['Last_Name'] = data['Name'].apply(lambda x: str.split(x, \",\")[0])"
   ]
  },
  {
   "cell_type": "markdown",
   "metadata": {},
   "source": [
    "성과 요금을 기준으로 가족 여부를 판단\n",
    "- 가족이 없을 경우 생존확률 0.5\n",
    "- 가족이 있을 경우 자기 자신을 제외한 나머지 가족들의 생존율을 자신의 생존확률로 채택"
   ]
  },
  {
   "cell_type": "code",
   "execution_count": 875,
   "metadata": {
    "ExecuteTime": {
     "end_time": "2020-08-02T12:26:05.473878Z",
     "start_time": "2020-08-02T12:26:05.468892Z"
    }
   },
   "outputs": [],
   "source": [
    "data['Probability'] = 0.5"
   ]
  },
  {
   "cell_type": "code",
   "execution_count": 876,
   "metadata": {
    "ExecuteTime": {
     "end_time": "2020-08-02T12:26:07.294216Z",
     "start_time": "2020-08-02T12:26:05.710245Z"
    }
   },
   "outputs": [],
   "source": [
    "for _, group_df in data.groupby(['Last_Name', 'Fare']):\n",
    "    if len(group_df) != 1:\n",
    "        for idx, row in group_df.iterrows():\n",
    "            probability = group_df.drop(idx)['Survived'].mean()\n",
    "            if math.isnan(probability):\n",
    "                data.loc[data['PassengerId'] == row['PassengerId'], 'Probability'] = 0.5\n",
    "            else:\n",
    "                data.loc[data['PassengerId'] == row['PassengerId'], 'Probability'] = probability"
   ]
  },
  {
   "cell_type": "markdown",
   "metadata": {},
   "source": [
    "티켓 번호를 기준으로 동승자 여부를 판단\n",
    "- 동승자가 없을 경우 생존확률 0.5\n",
    "- (가족이 없는 승객 중) 동승자가 있을 경우 자기 자신을 제외한 나머지 동승자들의 생존율을 자신의 생존확률로 채택"
   ]
  },
  {
   "cell_type": "code",
   "execution_count": 877,
   "metadata": {
    "ExecuteTime": {
     "end_time": "2020-08-02T12:26:08.388981Z",
     "start_time": "2020-08-02T12:26:07.478692Z"
    }
   },
   "outputs": [],
   "source": [
    "for _, group_df in data.groupby('Ticket'):\n",
    "    if len(group_df) != 1:\n",
    "        for idx, row in group_df.iterrows():\n",
    "            if row['Probability']== 0.5:\n",
    "                probability = group_df.drop(idx)['Survived'].mean()\n",
    "                if math.isnan(probability):\n",
    "                    data.loc[data['PassengerId'] == row['PassengerId'], 'Probability'] = 0.5\n",
    "                else:\n",
    "                    data.loc[data['PassengerId'] == row['PassengerId'], 'Probability'] = probability"
   ]
  },
  {
   "cell_type": "markdown",
   "metadata": {},
   "source": [
    "요금 4개 범주화"
   ]
  },
  {
   "cell_type": "code",
   "execution_count": 878,
   "metadata": {
    "ExecuteTime": {
     "end_time": "2020-08-02T12:26:08.576476Z",
     "start_time": "2020-08-02T12:26:08.569474Z"
    }
   },
   "outputs": [],
   "source": [
    "data['Fare'] = pd.qcut(data['Fare'], 4)"
   ]
  },
  {
   "cell_type": "code",
   "execution_count": 879,
   "metadata": {
    "ExecuteTime": {
     "end_time": "2020-08-02T12:26:08.778917Z",
     "start_time": "2020-08-02T12:26:08.767941Z"
    }
   },
   "outputs": [],
   "source": [
    "label = LabelEncoder()\n",
    "data['Fare'] = label.fit_transform(data['Fare'])"
   ]
  },
  {
   "cell_type": "markdown",
   "metadata": {},
   "source": [
    "호칭 추출"
   ]
  },
  {
   "cell_type": "code",
   "execution_count": 880,
   "metadata": {
    "ExecuteTime": {
     "end_time": "2020-08-02T12:26:08.961787Z",
     "start_time": "2020-08-02T12:26:08.956800Z"
    }
   },
   "outputs": [],
   "source": [
    "Title_Dictionary = {\n",
    "    'Capt':'ETC',\n",
    "    'Col':'ETC',\n",
    "    'Don':'Nobility',\n",
    "    'Dr':'ETC',\n",
    "    'Jonkheer':'Nobility',\n",
    "    'Lady':'Nobility',\n",
    "    'Major':'ETC',\n",
    "    'Master':'Master',\n",
    "    'Miss':'Miss',\n",
    "    'Mlle':'Miss',\n",
    "    'Mme':'Mrs',\n",
    "    'Mr':'Mr',\n",
    "    'Mrs':'Mrs',\n",
    "    'Ms':'Miss',\n",
    "    'Dona':'Mrs',\n",
    "    'Rev':'ETC',\n",
    "    'Sir':'Nobility',\n",
    "    'the Countess':'Nobility'\n",
    "}"
   ]
  },
  {
   "cell_type": "code",
   "execution_count": 881,
   "metadata": {
    "ExecuteTime": {
     "end_time": "2020-08-02T12:26:09.153533Z",
     "start_time": "2020-08-02T12:26:09.144554Z"
    }
   },
   "outputs": [],
   "source": [
    "data['Title'] = data['Name'].map(lambda x: x.split(',')[1].split('.')[0].strip())\n",
    "data['Title'] = data.Title.map(Title_Dictionary)"
   ]
  },
  {
   "cell_type": "markdown",
   "metadata": {},
   "source": [
    "나이의 결측치를 호칭의 중앙값으로 치환"
   ]
  },
  {
   "cell_type": "code",
   "execution_count": 882,
   "metadata": {
    "ExecuteTime": {
     "end_time": "2020-08-02T12:26:09.343053Z",
     "start_time": "2020-08-02T12:26:09.333053Z"
    }
   },
   "outputs": [],
   "source": [
    "data['Age'] = data.groupby('Title')['Age'].apply(lambda x: x.fillna(round(x.median(), 1)))"
   ]
  },
  {
   "cell_type": "markdown",
   "metadata": {},
   "source": [
    "나이 4개 범주화"
   ]
  },
  {
   "cell_type": "code",
   "execution_count": 883,
   "metadata": {
    "ExecuteTime": {
     "end_time": "2020-08-02T12:26:09.540499Z",
     "start_time": "2020-08-02T12:26:09.532519Z"
    }
   },
   "outputs": [],
   "source": [
    "data['Age'] = pd.qcut(data['Age'], 4)"
   ]
  },
  {
   "cell_type": "code",
   "execution_count": 884,
   "metadata": {
    "ExecuteTime": {
     "end_time": "2020-08-02T12:26:09.741980Z",
     "start_time": "2020-08-02T12:26:09.730989Z"
    }
   },
   "outputs": [],
   "source": [
    "label = LabelEncoder()\n",
    "data['Age'] = label.fit_transform(data['Age'])"
   ]
  },
  {
   "cell_type": "markdown",
   "metadata": {},
   "source": [
    "호칭 숫자로 변환"
   ]
  },
  {
   "cell_type": "code",
   "execution_count": 885,
   "metadata": {
    "ExecuteTime": {
     "end_time": "2020-08-02T12:26:09.944418Z",
     "start_time": "2020-08-02T12:26:09.934445Z"
    }
   },
   "outputs": [],
   "source": [
    "data['Title'] = data['Title'].replace(['Mr', 'ETC', 'Nobility', 'Miss', 'Mrs', 'Master'], [0, 1, 2, 3, 4, 5])"
   ]
  },
  {
   "cell_type": "markdown",
   "metadata": {},
   "source": [
    "성별 숫자로 변환"
   ]
  },
  {
   "cell_type": "code",
   "execution_count": 886,
   "metadata": {
    "ExecuteTime": {
     "end_time": "2020-08-02T12:26:10.146515Z",
     "start_time": "2020-08-02T12:26:10.140531Z"
    }
   },
   "outputs": [],
   "source": [
    "data['Sex'] = data['Sex'].replace(['male', 'female'], [0, 1])"
   ]
  },
  {
   "cell_type": "markdown",
   "metadata": {},
   "source": [
    "항구 결측치 최빈값으로 치환"
   ]
  },
  {
   "cell_type": "code",
   "execution_count": 887,
   "metadata": {
    "ExecuteTime": {
     "end_time": "2020-08-02T12:26:10.340999Z",
     "start_time": "2020-08-02T12:26:10.334017Z"
    }
   },
   "outputs": [],
   "source": [
    "data['Embarked'] = data['Embarked'].fillna(data['Embarked'].mode()[0])"
   ]
  },
  {
   "cell_type": "markdown",
   "metadata": {},
   "source": [
    "항구 숫자로 변환"
   ]
  },
  {
   "cell_type": "code",
   "execution_count": 888,
   "metadata": {
    "ExecuteTime": {
     "end_time": "2020-08-02T12:26:10.527521Z",
     "start_time": "2020-08-02T12:26:10.521516Z"
    }
   },
   "outputs": [],
   "source": [
    "data['Embarked'] = data['Embarked'].replace(['S', 'C', 'Q'], [0, 1, 2])"
   ]
  },
  {
   "cell_type": "markdown",
   "metadata": {},
   "source": [
    "객실 결측치를 N으로 치환"
   ]
  },
  {
   "cell_type": "code",
   "execution_count": 889,
   "metadata": {
    "ExecuteTime": {
     "end_time": "2020-08-02T12:26:10.710024Z",
     "start_time": "2020-08-02T12:26:10.705026Z"
    }
   },
   "outputs": [],
   "source": [
    "data['Cabin'].fillna('N',inplace=True)"
   ]
  },
  {
   "cell_type": "markdown",
   "metadata": {},
   "source": [
    "객실의 문자 부분 추출"
   ]
  },
  {
   "cell_type": "code",
   "execution_count": 890,
   "metadata": {
    "ExecuteTime": {
     "end_time": "2020-08-02T12:26:10.893520Z",
     "start_time": "2020-08-02T12:26:10.888534Z"
    }
   },
   "outputs": [],
   "source": [
    "data['Cabin'] = data['Cabin'].map(lambda x: x[0])"
   ]
  },
  {
   "cell_type": "markdown",
   "metadata": {},
   "source": [
    "객실 결측치 처리\n",
    "- Pclass 1 : 3\n",
    "- Pclass 2 : 2\n",
    "- Pclass 3 : 0"
   ]
  },
  {
   "cell_type": "code",
   "execution_count": 891,
   "metadata": {
    "ExecuteTime": {
     "end_time": "2020-08-02T12:26:11.083542Z",
     "start_time": "2020-08-02T12:26:11.079532Z"
    }
   },
   "outputs": [],
   "source": [
    "Cabin_Dictionary = {\n",
    "    'A':'3',\n",
    "    'B':'3',\n",
    "    'C':'3',\n",
    "    'D':'2',\n",
    "    'E':'2',\n",
    "    'F':'1',\n",
    "    'G':'1',\n",
    "    'T':'3',\n",
    "    'N':'0'\n",
    "}"
   ]
  },
  {
   "cell_type": "code",
   "execution_count": 892,
   "metadata": {
    "ExecuteTime": {
     "end_time": "2020-08-02T12:26:11.295975Z",
     "start_time": "2020-08-02T12:26:11.289969Z"
    }
   },
   "outputs": [],
   "source": [
    "data['Cabin'] = data.Cabin.map(Cabin_Dictionary)"
   ]
  },
  {
   "cell_type": "code",
   "execution_count": 893,
   "metadata": {
    "ExecuteTime": {
     "end_time": "2020-08-02T12:26:11.488653Z",
     "start_time": "2020-08-02T12:26:11.483673Z"
    }
   },
   "outputs": [],
   "source": [
    "data['Cabin'] = data.Cabin.astype(int)"
   ]
  },
  {
   "cell_type": "markdown",
   "metadata": {},
   "source": [
    "가족 컬럼 생성"
   ]
  },
  {
   "cell_type": "code",
   "execution_count": 894,
   "metadata": {
    "ExecuteTime": {
     "end_time": "2020-08-02T12:26:11.682141Z",
     "start_time": "2020-08-02T12:26:11.678146Z"
    }
   },
   "outputs": [],
   "source": [
    "data['Family'] = data['SibSp'] + data['Parch'] + 1"
   ]
  },
  {
   "cell_type": "markdown",
   "metadata": {},
   "source": [
    "불필요 컬럼 제거"
   ]
  },
  {
   "cell_type": "code",
   "execution_count": 895,
   "metadata": {
    "ExecuteTime": {
     "end_time": "2020-08-02T12:26:11.881626Z",
     "start_time": "2020-08-02T12:26:11.875616Z"
    }
   },
   "outputs": [],
   "source": [
    "data = data.drop(['Survived', 'Name', 'SibSp', 'Parch', 'Ticket', 'Last_Name', 'PassengerId'], axis=1)"
   ]
  },
  {
   "cell_type": "markdown",
   "metadata": {},
   "source": [
    "train/test 데이터 분리"
   ]
  },
  {
   "cell_type": "code",
   "execution_count": 896,
   "metadata": {
    "ExecuteTime": {
     "end_time": "2020-08-02T12:26:12.064132Z",
     "start_time": "2020-08-02T12:26:12.059147Z"
    }
   },
   "outputs": [],
   "source": [
    "train = data[:891]\n",
    "test = data[891:]"
   ]
  },
  {
   "cell_type": "markdown",
   "metadata": {},
   "source": [
    "표준화"
   ]
  },
  {
   "cell_type": "code",
   "execution_count": 897,
   "metadata": {
    "ExecuteTime": {
     "end_time": "2020-08-02T12:26:12.248791Z",
     "start_time": "2020-08-02T12:26:12.239837Z"
    }
   },
   "outputs": [],
   "source": [
    "X_train = train\n",
    "X_test = test\n",
    "\n",
    "scaler = StandardScaler()\n",
    "X_train = scaler.fit_transform(X_train)\n",
    "X_test = scaler.transform(X_test)"
   ]
  },
  {
   "cell_type": "markdown",
   "metadata": {},
   "source": [
    "5개 모델 생성"
   ]
  },
  {
   "cell_type": "code",
   "execution_count": 898,
   "metadata": {
    "ExecuteTime": {
     "end_time": "2020-08-02T12:26:16.061102Z",
     "start_time": "2020-08-02T12:26:12.844154Z"
    }
   },
   "outputs": [],
   "source": [
    "rf = RandomForestClassifier(random_state=1)\n",
    "knn = KNeighborsClassifier()\n",
    "lr = LogisticRegression()\n",
    "xgb = XGBClassifier()\n",
    "svm = SVC(probability=True)\n",
    "  \n",
    "models = [rf, knn, lr, xgb, svm]\n",
    "scores = []\n",
    "\n",
    "for mod in models:\n",
    "    mod.fit(X_train, y_train)\n",
    "    acc = cross_val_score(mod, X_train, y_train, scoring='accuracy', cv=10)\n",
    "    scores.append(acc.mean())"
   ]
  },
  {
   "cell_type": "code",
   "execution_count": 899,
   "metadata": {
    "ExecuteTime": {
     "end_time": "2020-08-02T12:26:16.272026Z",
     "start_time": "2020-08-02T12:26:16.257067Z"
    },
    "scrolled": true
   },
   "outputs": [
    {
     "data": {
      "text/html": [
       "<div>\n",
       "<style scoped>\n",
       "    .dataframe tbody tr th:only-of-type {\n",
       "        vertical-align: middle;\n",
       "    }\n",
       "\n",
       "    .dataframe tbody tr th {\n",
       "        vertical-align: top;\n",
       "    }\n",
       "\n",
       "    .dataframe thead th {\n",
       "        text-align: right;\n",
       "    }\n",
       "</style>\n",
       "<table border=\"1\" class=\"dataframe\">\n",
       "  <thead>\n",
       "    <tr style=\"text-align: right;\">\n",
       "      <th></th>\n",
       "      <th>Model</th>\n",
       "      <th>First</th>\n",
       "    </tr>\n",
       "  </thead>\n",
       "  <tbody>\n",
       "    <tr>\n",
       "      <th>0</th>\n",
       "      <td>SVM</td>\n",
       "      <td>0.849588</td>\n",
       "    </tr>\n",
       "    <tr>\n",
       "      <th>1</th>\n",
       "      <td>XGBoost</td>\n",
       "      <td>0.842896</td>\n",
       "    </tr>\n",
       "    <tr>\n",
       "      <th>2</th>\n",
       "      <td>Random Forest</td>\n",
       "      <td>0.842884</td>\n",
       "    </tr>\n",
       "    <tr>\n",
       "      <th>3</th>\n",
       "      <td>Logistic Regression</td>\n",
       "      <td>0.841785</td>\n",
       "    </tr>\n",
       "    <tr>\n",
       "      <th>4</th>\n",
       "      <td>K Nearest Neighbour</td>\n",
       "      <td>0.812534</td>\n",
       "    </tr>\n",
       "  </tbody>\n",
       "</table>\n",
       "</div>"
      ],
      "text/plain": [
       "                 Model     First\n",
       "0                  SVM  0.849588\n",
       "1              XGBoost  0.842896\n",
       "2        Random Forest  0.842884\n",
       "3  Logistic Regression  0.841785\n",
       "4  K Nearest Neighbour  0.812534"
      ]
     },
     "execution_count": 899,
     "metadata": {},
     "output_type": "execute_result"
    }
   ],
   "source": [
    "results = pd.DataFrame({\n",
    "    'Model': [\n",
    "        'Random Forest',\n",
    "        'K Nearest Neighbour',\n",
    "        'Logistic Regression',\n",
    "        'XGBoost',\n",
    "        'SVM'\n",
    "    ],\n",
    "    'First': scores})\n",
    "\n",
    "acc_rank = results.sort_values(by='First', ascending=False).reset_index(drop=True)\n",
    "acc_rank"
   ]
  },
  {
   "cell_type": "markdown",
   "metadata": {},
   "source": [
    "변수 선택"
   ]
  },
  {
   "cell_type": "code",
   "execution_count": 900,
   "metadata": {
    "ExecuteTime": {
     "end_time": "2020-08-02T13:35:31.665335Z",
     "start_time": "2020-08-02T13:35:31.600482Z"
    }
   },
   "outputs": [
    {
     "data": {
      "text/html": [
       "<div>\n",
       "<style scoped>\n",
       "    .dataframe tbody tr th:only-of-type {\n",
       "        vertical-align: middle;\n",
       "    }\n",
       "\n",
       "    .dataframe tbody tr th {\n",
       "        vertical-align: top;\n",
       "    }\n",
       "\n",
       "    .dataframe thead th {\n",
       "        text-align: right;\n",
       "    }\n",
       "</style>\n",
       "<table border=\"1\" class=\"dataframe\">\n",
       "  <thead>\n",
       "    <tr style=\"text-align: right;\">\n",
       "      <th></th>\n",
       "      <th>Feature</th>\n",
       "      <th>xgb importance</th>\n",
       "      <th>rf importance</th>\n",
       "      <th>Average</th>\n",
       "    </tr>\n",
       "  </thead>\n",
       "  <tbody>\n",
       "    <tr>\n",
       "      <th>0</th>\n",
       "      <td>Title</td>\n",
       "      <td>0.474218</td>\n",
       "      <td>0.260620</td>\n",
       "      <td>0.367419</td>\n",
       "    </tr>\n",
       "    <tr>\n",
       "      <th>1</th>\n",
       "      <td>Probability</td>\n",
       "      <td>0.154363</td>\n",
       "      <td>0.145490</td>\n",
       "      <td>0.149926</td>\n",
       "    </tr>\n",
       "    <tr>\n",
       "      <th>2</th>\n",
       "      <td>Pclass</td>\n",
       "      <td>0.143119</td>\n",
       "      <td>0.105489</td>\n",
       "      <td>0.124304</td>\n",
       "    </tr>\n",
       "    <tr>\n",
       "      <th>3</th>\n",
       "      <td>Sex</td>\n",
       "      <td>0.028464</td>\n",
       "      <td>0.144255</td>\n",
       "      <td>0.086360</td>\n",
       "    </tr>\n",
       "    <tr>\n",
       "      <th>4</th>\n",
       "      <td>Cabin</td>\n",
       "      <td>0.085670</td>\n",
       "      <td>0.061329</td>\n",
       "      <td>0.073500</td>\n",
       "    </tr>\n",
       "    <tr>\n",
       "      <th>5</th>\n",
       "      <td>Family</td>\n",
       "      <td>0.029807</td>\n",
       "      <td>0.093315</td>\n",
       "      <td>0.061561</td>\n",
       "    </tr>\n",
       "    <tr>\n",
       "      <th>6</th>\n",
       "      <td>Age</td>\n",
       "      <td>0.024772</td>\n",
       "      <td>0.078279</td>\n",
       "      <td>0.051525</td>\n",
       "    </tr>\n",
       "    <tr>\n",
       "      <th>7</th>\n",
       "      <td>Fare</td>\n",
       "      <td>0.034016</td>\n",
       "      <td>0.067181</td>\n",
       "      <td>0.050598</td>\n",
       "    </tr>\n",
       "    <tr>\n",
       "      <th>8</th>\n",
       "      <td>Embarked</td>\n",
       "      <td>0.025572</td>\n",
       "      <td>0.044042</td>\n",
       "      <td>0.034807</td>\n",
       "    </tr>\n",
       "  </tbody>\n",
       "</table>\n",
       "</div>"
      ],
      "text/plain": [
       "       Feature  xgb importance  rf importance   Average\n",
       "0        Title        0.474218       0.260620  0.367419\n",
       "1  Probability        0.154363       0.145490  0.149926\n",
       "2       Pclass        0.143119       0.105489  0.124304\n",
       "3          Sex        0.028464       0.144255  0.086360\n",
       "4        Cabin        0.085670       0.061329  0.073500\n",
       "5       Family        0.029807       0.093315  0.061561\n",
       "6          Age        0.024772       0.078279  0.051525\n",
       "7         Fare        0.034016       0.067181  0.050598\n",
       "8     Embarked        0.025572       0.044042  0.034807"
      ]
     },
     "execution_count": 900,
     "metadata": {},
     "output_type": "execute_result"
    }
   ],
   "source": [
    "xgb_imp = pd.DataFrame({'Feature':train.columns, 'xgb importance':xgb.feature_importances_})\n",
    "rf_imp = pd.DataFrame({'Feature':train.columns, 'rf importance':rf.feature_importances_})\n",
    "\n",
    "importances = xgb_imp.merge(rf_imp, on='Feature')\n",
    "importances['Average'] = importances.mean(axis=1)\n",
    "importances = importances.sort_values(by='Average', ascending=False).reset_index(drop=True)\n",
    "\n",
    "importances"
   ]
  },
  {
   "cell_type": "markdown",
   "metadata": {},
   "source": [
    "변수 제거"
   ]
  },
  {
   "cell_type": "code",
   "execution_count": 901,
   "metadata": {
    "ExecuteTime": {
     "end_time": "2020-08-02T13:35:49.523101Z",
     "start_time": "2020-08-02T13:35:49.513101Z"
    }
   },
   "outputs": [],
   "source": [
    "train = train.drop(['Embarked'], axis=1)\n",
    "test = test.drop(['Embarked'], axis=1)\n",
    "\n",
    "X_train = train\n",
    "X_test = test\n",
    "\n",
    "X_train = scaler.fit_transform(X_train)\n",
    "X_test = scaler.transform(X_test)"
   ]
  },
  {
   "cell_type": "markdown",
   "metadata": {},
   "source": [
    "5개 모델 생성"
   ]
  },
  {
   "cell_type": "code",
   "execution_count": 902,
   "metadata": {
    "ExecuteTime": {
     "end_time": "2020-08-02T13:35:53.723834Z",
     "start_time": "2020-08-02T13:35:50.377414Z"
    }
   },
   "outputs": [],
   "source": [
    "rf = RandomForestClassifier(random_state=1)\n",
    "knn = KNeighborsClassifier()\n",
    "lr = LogisticRegression()\n",
    "xgb = XGBClassifier(random_state=1)\n",
    "svm = SVC(probability=True)\n",
    "      \n",
    "models = [rf, knn, lr, xgb, svm]\n",
    "scores_v2 = []\n",
    "\n",
    "for mod in models:\n",
    "    mod.fit(X_train, y_train)\n",
    "    acc = cross_val_score(mod, X_train, y_train, scoring='accuracy', cv=10)\n",
    "    scores_v2.append(acc.mean())"
   ]
  },
  {
   "cell_type": "code",
   "execution_count": 903,
   "metadata": {
    "ExecuteTime": {
     "end_time": "2020-08-02T13:35:53.912923Z",
     "start_time": "2020-08-02T13:35:53.901974Z"
    }
   },
   "outputs": [
    {
     "data": {
      "text/html": [
       "<div>\n",
       "<style scoped>\n",
       "    .dataframe tbody tr th:only-of-type {\n",
       "        vertical-align: middle;\n",
       "    }\n",
       "\n",
       "    .dataframe tbody tr th {\n",
       "        vertical-align: top;\n",
       "    }\n",
       "\n",
       "    .dataframe thead th {\n",
       "        text-align: right;\n",
       "    }\n",
       "</style>\n",
       "<table border=\"1\" class=\"dataframe\">\n",
       "  <thead>\n",
       "    <tr style=\"text-align: right;\">\n",
       "      <th></th>\n",
       "      <th>Model</th>\n",
       "      <th>First</th>\n",
       "      <th>Delete feature</th>\n",
       "    </tr>\n",
       "  </thead>\n",
       "  <tbody>\n",
       "    <tr>\n",
       "      <th>0</th>\n",
       "      <td>XGBoost</td>\n",
       "      <td>0.842896</td>\n",
       "      <td>0.857516</td>\n",
       "    </tr>\n",
       "    <tr>\n",
       "      <th>1</th>\n",
       "      <td>SVM</td>\n",
       "      <td>0.849588</td>\n",
       "      <td>0.851823</td>\n",
       "    </tr>\n",
       "    <tr>\n",
       "      <th>2</th>\n",
       "      <td>Random Forest</td>\n",
       "      <td>0.842884</td>\n",
       "      <td>0.847416</td>\n",
       "    </tr>\n",
       "    <tr>\n",
       "      <th>3</th>\n",
       "      <td>K Nearest Neighbour</td>\n",
       "      <td>0.812534</td>\n",
       "      <td>0.844007</td>\n",
       "    </tr>\n",
       "    <tr>\n",
       "      <th>4</th>\n",
       "      <td>Logistic Regression</td>\n",
       "      <td>0.841785</td>\n",
       "      <td>0.840662</td>\n",
       "    </tr>\n",
       "  </tbody>\n",
       "</table>\n",
       "</div>"
      ],
      "text/plain": [
       "                 Model     First  Delete feature\n",
       "0              XGBoost  0.842896        0.857516\n",
       "1                  SVM  0.849588        0.851823\n",
       "2        Random Forest  0.842884        0.847416\n",
       "3  K Nearest Neighbour  0.812534        0.844007\n",
       "4  Logistic Regression  0.841785        0.840662"
      ]
     },
     "execution_count": 903,
     "metadata": {},
     "output_type": "execute_result"
    }
   ],
   "source": [
    "results = pd.DataFrame({\n",
    "    'Model': [\n",
    "        'Random Forest',\n",
    "        'K Nearest Neighbour',\n",
    "        'Logistic Regression',\n",
    "        'XGBoost',\n",
    "        'SVM'\n",
    "    ],\n",
    "    'First': scores,\n",
    "    'Delete feature': scores_v2})\n",
    "\n",
    "acc_rank = results.sort_values(by='Delete feature', ascending=False).reset_index(drop=True)\n",
    "acc_rank"
   ]
  },
  {
   "cell_type": "markdown",
   "metadata": {},
   "source": [
    "SVM"
   ]
  },
  {
   "cell_type": "code",
   "execution_count": 948,
   "metadata": {
    "ExecuteTime": {
     "end_time": "2020-08-02T14:32:09.133958Z",
     "start_time": "2020-08-02T14:31:57.398719Z"
    }
   },
   "outputs": [
    {
     "name": "stdout",
     "output_type": "stream",
     "text": [
      "Fitting 5 folds for each of 40 candidates, totalling 200 fits\n"
     ]
    },
    {
     "name": "stderr",
     "output_type": "stream",
     "text": [
      "[Parallel(n_jobs=1)]: Using backend SequentialBackend with 1 concurrent workers.\n"
     ]
    },
    {
     "name": "stdout",
     "output_type": "stream",
     "text": [
      "0.8574414663235203\n",
      "SVC(C=100, break_ties=False, cache_size=200, class_weight=None, coef0=0.0,\n",
      "    decision_function_shape='ovr', degree=3, gamma=0.01, kernel='rbf',\n",
      "    max_iter=-1, probability=True, random_state=None, shrinking=True, tol=0.001,\n",
      "    verbose=False)\n"
     ]
    },
    {
     "name": "stderr",
     "output_type": "stream",
     "text": [
      "[Parallel(n_jobs=1)]: Done 200 out of 200 | elapsed:   11.5s finished\n"
     ]
    }
   ],
   "source": [
    "C = [0.001, 0.01, 0.1, 1, 5, 10, 15, 20, 50, 100]\n",
    "gamma = [0.001, 0.01, 0.1, 1]\n",
    "\n",
    "hyperparams = {'C': C, 'gamma' : gamma}\n",
    "\n",
    "gscv = GridSearchCV(\n",
    "    estimator=SVC(probability=True),\n",
    "    param_grid=hyperparams,\n",
    "    verbose=True,\n",
    "    cv=5,\n",
    "    scoring='accuracy'\n",
    ")\n",
    "\n",
    "gscv.fit(X_train, y_train)\n",
    "print(gscv.best_score_)\n",
    "print(gscv.best_estimator_)"
   ]
  },
  {
   "cell_type": "markdown",
   "metadata": {},
   "source": [
    "LR"
   ]
  },
  {
   "cell_type": "code",
   "execution_count": 956,
   "metadata": {
    "ExecuteTime": {
     "end_time": "2020-08-02T14:36:02.095275Z",
     "start_time": "2020-08-02T14:36:01.815046Z"
    }
   },
   "outputs": [
    {
     "name": "stdout",
     "output_type": "stream",
     "text": [
      "Fitting 5 folds for each of 20 candidates, totalling 100 fits\n"
     ]
    },
    {
     "name": "stderr",
     "output_type": "stream",
     "text": [
      "[Parallel(n_jobs=1)]: Using backend SequentialBackend with 1 concurrent workers.\n"
     ]
    },
    {
     "name": "stdout",
     "output_type": "stream",
     "text": [
      "0.8383780051471973\n",
      "LogisticRegression(C=1.0, class_weight=None, dual=False, fit_intercept=True,\n",
      "                   intercept_scaling=1, l1_ratio=None, max_iter=100,\n",
      "                   multi_class='auto', n_jobs=None, penalty='l2',\n",
      "                   random_state=None, solver='lbfgs', tol=0.0001, verbose=0,\n",
      "                   warm_start=False)\n"
     ]
    },
    {
     "name": "stderr",
     "output_type": "stream",
     "text": [
      "[Parallel(n_jobs=1)]: Done 100 out of 100 | elapsed:    0.2s finished\n"
     ]
    }
   ],
   "source": [
    "penalty = ['l1', 'l2']\n",
    "C = np.logspace(0, 5, 10)\n",
    "\n",
    "hyperparams = {'penalty': penalty, 'C': C}\n",
    "\n",
    "gscv = GridSearchCV(\n",
    "    estimator=LogisticRegression(),\n",
    "    param_grid=hyperparams,\n",
    "    verbose=True,\n",
    "    cv=5,\n",
    "    scoring='accuracy'\n",
    ")\n",
    "\n",
    "gscv.fit(X_train, y_train)\n",
    "print(gscv.best_score_)\n",
    "print(gscv.best_estimator_)"
   ]
  },
  {
   "cell_type": "markdown",
   "metadata": {},
   "source": [
    "XGB"
   ]
  },
  {
   "cell_type": "code",
   "execution_count": 906,
   "metadata": {
    "ExecuteTime": {
     "end_time": "2020-08-02T13:37:10.470445Z",
     "start_time": "2020-08-02T13:36:22.368896Z"
    }
   },
   "outputs": [
    {
     "name": "stdout",
     "output_type": "stream",
     "text": [
      "Fitting 5 folds for each of 72 candidates, totalling 360 fits\n"
     ]
    },
    {
     "name": "stderr",
     "output_type": "stream",
     "text": [
      "[Parallel(n_jobs=1)]: Using backend SequentialBackend with 1 concurrent workers.\n",
      "[Parallel(n_jobs=1)]: Done 360 out of 360 | elapsed:   47.7s finished\n"
     ]
    },
    {
     "name": "stdout",
     "output_type": "stream",
     "text": [
      "0.8462368966166594\n",
      "XGBClassifier(base_score=0.5, booster='gbtree', colsample_bylevel=1,\n",
      "              colsample_bynode=1, colsample_bytree=1, gamma=0, gpu_id=-1,\n",
      "              importance_type='gain', interaction_constraints='',\n",
      "              learning_rate=0.01, max_delta_step=0, max_depth=6,\n",
      "              min_child_weight=1, missing=nan, monotone_constraints='()',\n",
      "              n_estimators=750, n_jobs=0, num_parallel_tree=1,\n",
      "              objective='binary:logistic', random_state=0, reg_alpha=0,\n",
      "              reg_lambda=1, scale_pos_weight=1, subsample=1,\n",
      "              tree_method='exact', validate_parameters=1, verbosity=None)\n"
     ]
    }
   ],
   "source": [
    "learning_rate = [0.0001, 0.0005, 0.001, 0.005, 0.01, 0.05, 0.1, 0.2]\n",
    "n_estimators = [10, 25, 50, 75, 100, 250, 500, 750, 1000]\n",
    "\n",
    "hyperparams = {\n",
    "    'learning_rate': learning_rate,\n",
    "    'n_estimators': n_estimators\n",
    "}\n",
    "\n",
    "gscv = GridSearchCV(\n",
    "    estimator=XGBClassifier(),\n",
    "    param_grid=hyperparams,\n",
    "    verbose=True,\n",
    "    cv=5,\n",
    "    scoring='accuracy'\n",
    ")\n",
    "\n",
    "gscv.fit(X_train, y_train)\n",
    "print(gscv.best_score_)\n",
    "print(gscv.best_estimator_)"
   ]
  },
  {
   "cell_type": "code",
   "execution_count": 907,
   "metadata": {
    "ExecuteTime": {
     "end_time": "2020-08-02T13:38:23.093571Z",
     "start_time": "2020-08-02T13:37:27.640497Z"
    }
   },
   "outputs": [
    {
     "name": "stdout",
     "output_type": "stream",
     "text": [
      "Fitting 5 folds for each of 48 candidates, totalling 240 fits\n"
     ]
    },
    {
     "name": "stderr",
     "output_type": "stream",
     "text": [
      "[Parallel(n_jobs=1)]: Using backend SequentialBackend with 1 concurrent workers.\n",
      "[Parallel(n_jobs=1)]: Done 240 out of 240 | elapsed:   55.2s finished\n"
     ]
    },
    {
     "name": "stdout",
     "output_type": "stream",
     "text": [
      "0.8585650618291382\n",
      "XGBClassifier(base_score=0.5, booster='gbtree', colsample_bylevel=1,\n",
      "              colsample_bynode=1, colsample_bytree=1, gamma=0, gpu_id=-1,\n",
      "              importance_type='gain', interaction_constraints='',\n",
      "              learning_rate=0.01, max_delta_step=0, max_depth=4,\n",
      "              min_child_weight=6, missing=nan, monotone_constraints='()',\n",
      "              n_estimators=750, n_jobs=0, num_parallel_tree=1,\n",
      "              objective='binary:logistic', random_state=0, reg_alpha=0,\n",
      "              reg_lambda=1, scale_pos_weight=1, subsample=1,\n",
      "              tree_method='exact', validate_parameters=1, verbosity=None)\n"
     ]
    }
   ],
   "source": [
    "max_depth = [3, 4, 5, 6, 7, 8, 9, 10]\n",
    "min_child_weight = [1, 2, 3, 4, 5, 6]\n",
    "\n",
    "hyperparams = {\n",
    "    'max_depth': max_depth,\n",
    "    'min_child_weight': min_child_weight\n",
    "}\n",
    "\n",
    "gscv = GridSearchCV(\n",
    "    estimator=XGBClassifier(\n",
    "        learning_rate=0.01,\n",
    "        n_estimators=750\n",
    "    ),\n",
    "    param_grid=hyperparams,\n",
    "    verbose=True,\n",
    "    cv=5,\n",
    "    scoring='accuracy'\n",
    ")\n",
    "\n",
    "gscv.fit(X_train, y_train)\n",
    "print(gscv.best_score_)\n",
    "print(gscv.best_estimator_)"
   ]
  },
  {
   "cell_type": "code",
   "execution_count": 909,
   "metadata": {
    "ExecuteTime": {
     "end_time": "2020-08-02T13:38:40.273636Z",
     "start_time": "2020-08-02T13:38:35.434275Z"
    }
   },
   "outputs": [
    {
     "name": "stdout",
     "output_type": "stream",
     "text": [
      "Fitting 5 folds for each of 5 candidates, totalling 25 fits\n"
     ]
    },
    {
     "name": "stderr",
     "output_type": "stream",
     "text": [
      "[Parallel(n_jobs=1)]: Using backend SequentialBackend with 1 concurrent workers.\n",
      "[Parallel(n_jobs=1)]: Done  25 out of  25 | elapsed:    4.5s finished\n"
     ]
    },
    {
     "name": "stdout",
     "output_type": "stream",
     "text": [
      "0.8585650618291382\n",
      "XGBClassifier(base_score=0.5, booster='gbtree', colsample_bylevel=1,\n",
      "              colsample_bynode=1, colsample_bytree=1, gamma=0.0, gpu_id=-1,\n",
      "              importance_type='gain', interaction_constraints='',\n",
      "              learning_rate=0.01, max_delta_step=0, max_depth=4,\n",
      "              min_child_weight=6, missing=nan, monotone_constraints='()',\n",
      "              n_estimators=750, n_jobs=0, num_parallel_tree=1,\n",
      "              objective='binary:logistic', random_state=0, reg_alpha=0,\n",
      "              reg_lambda=1, scale_pos_weight=1, subsample=1,\n",
      "              tree_method='exact', validate_parameters=1, verbosity=None)\n"
     ]
    }
   ],
   "source": [
    "gamma = [i*0.1 for i in range(0,5)]\n",
    "\n",
    "hyperparams = {'gamma': gamma}\n",
    "\n",
    "gscv = GridSearchCV(\n",
    "    estimator=XGBClassifier(\n",
    "        learning_rate=0.01,\n",
    "        n_estimators=750,\n",
    "        max_depth=4,\n",
    "        min_child_weight=6\n",
    "    ),\n",
    "    param_grid=hyperparams,\n",
    "    verbose=True,\n",
    "    cv=5,\n",
    "    scoring='accuracy')\n",
    "\n",
    "gscv.fit(X_train, y_train)\n",
    "print(gscv.best_score_)\n",
    "print(gscv.best_estimator_)"
   ]
  },
  {
   "cell_type": "code",
   "execution_count": 910,
   "metadata": {
    "ExecuteTime": {
     "end_time": "2020-08-02T13:40:44.185065Z",
     "start_time": "2020-08-02T13:39:19.521570Z"
    }
   },
   "outputs": [
    {
     "name": "stdout",
     "output_type": "stream",
     "text": [
      "Fitting 5 folds for each of 81 candidates, totalling 405 fits\n"
     ]
    },
    {
     "name": "stderr",
     "output_type": "stream",
     "text": [
      "[Parallel(n_jobs=1)]: Using backend SequentialBackend with 1 concurrent workers.\n",
      "[Parallel(n_jobs=1)]: Done 405 out of 405 | elapsed:  1.4min finished\n"
     ]
    },
    {
     "name": "stdout",
     "output_type": "stream",
     "text": [
      "0.8596823802648924\n",
      "XGBClassifier(base_score=0.5, booster='gbtree', colsample_bylevel=1,\n",
      "              colsample_bynode=1, colsample_bytree=1, gamma=0, gpu_id=-1,\n",
      "              importance_type='gain', interaction_constraints='',\n",
      "              learning_rate=0.01, max_delta_step=0, max_depth=4,\n",
      "              min_child_weight=6, missing=nan, monotone_constraints='()',\n",
      "              n_estimators=750, n_jobs=0, num_parallel_tree=1,\n",
      "              objective='binary:logistic', random_state=0, reg_alpha=0,\n",
      "              reg_lambda=1, scale_pos_weight=1, subsample=0.65,\n",
      "              tree_method='exact', validate_parameters=1, verbosity=None)\n"
     ]
    }
   ],
   "source": [
    "subsample = [0.6, 0.65, 0.7, 0.75, 0.8, 0.85, 0.9, 0.95, 1]\n",
    "colsample_bytree = [0.6, 0.65, 0.7, 0.75, 0.8, 0.85, 0.9, 0.95, 1]\n",
    "    \n",
    "hyperparams = {\n",
    "    'subsample': subsample,\n",
    "    'colsample_bytree': colsample_bytree\n",
    "}\n",
    "\n",
    "gscv = GridSearchCV(\n",
    "    estimator=XGBClassifier(\n",
    "        learning_rate=0.01,\n",
    "        n_estimators=750,\n",
    "        max_depth=4,\n",
    "        min_child_weight=6,\n",
    "        gamma=0\n",
    "    ),\n",
    "    param_grid=hyperparams,\n",
    "    verbose=True,\n",
    "    cv=5,\n",
    "    scoring='accuracy'\n",
    ")\n",
    "\n",
    "gscv.fit(X_train, y_train)\n",
    "print(gscv.best_score_)\n",
    "print(gscv.best_estimator_)"
   ]
  },
  {
   "cell_type": "code",
   "execution_count": 911,
   "metadata": {
    "ExecuteTime": {
     "end_time": "2020-08-02T13:41:05.040685Z",
     "start_time": "2020-08-02T13:40:59.632060Z"
    }
   },
   "outputs": [
    {
     "name": "stdout",
     "output_type": "stream",
     "text": [
      "Fitting 5 folds for each of 5 candidates, totalling 25 fits\n"
     ]
    },
    {
     "name": "stderr",
     "output_type": "stream",
     "text": [
      "[Parallel(n_jobs=1)]: Using backend SequentialBackend with 1 concurrent workers.\n",
      "[Parallel(n_jobs=1)]: Done  25 out of  25 | elapsed:    5.0s finished\n"
     ]
    },
    {
     "name": "stdout",
     "output_type": "stream",
     "text": [
      "0.8596823802648924\n",
      "XGBClassifier(base_score=0.5, booster='gbtree', colsample_bylevel=1,\n",
      "              colsample_bynode=1, colsample_bytree=1, gamma=0, gpu_id=-1,\n",
      "              importance_type='gain', interaction_constraints='',\n",
      "              learning_rate=0.01, max_delta_step=0, max_depth=4,\n",
      "              min_child_weight=6, missing=nan, monotone_constraints='()',\n",
      "              n_estimators=750, n_jobs=0, num_parallel_tree=1,\n",
      "              objective='binary:logistic', random_state=0, reg_alpha=1e-05,\n",
      "              reg_lambda=1, scale_pos_weight=1, subsample=0.65,\n",
      "              tree_method='exact', validate_parameters=1, verbosity=None)\n"
     ]
    }
   ],
   "source": [
    "reg_alpha = [1e-5, 1e-2, 0.1, 1, 100]\n",
    "    \n",
    "hyperparams = {'reg_alpha': reg_alpha}\n",
    "\n",
    "gscv = GridSearchCV(\n",
    "    estimator=XGBClassifier(\n",
    "        learning_rate=0.01,\n",
    "        n_estimators=750,\n",
    "        max_depth=4,\n",
    "        min_child_weight=6,\n",
    "        gamma=0,\n",
    "        subsample=0.65,\n",
    "        colsample_bytree=1\n",
    "    ),\n",
    "    param_grid=hyperparams,\n",
    "    verbose=True,\n",
    "    cv=5,\n",
    "    scoring='accuracy'\n",
    ")\n",
    "\n",
    "gscv.fit(X_train, y_train)\n",
    "print(gscv.best_score_)\n",
    "print(gscv.best_estimator_)"
   ]
  },
  {
   "cell_type": "markdown",
   "metadata": {},
   "source": [
    "KNN"
   ]
  },
  {
   "cell_type": "code",
   "execution_count": 934,
   "metadata": {
    "ExecuteTime": {
     "end_time": "2020-08-02T14:27:20.128066Z",
     "start_time": "2020-08-02T14:21:42.335924Z"
    }
   },
   "outputs": [
    {
     "name": "stdout",
     "output_type": "stream",
     "text": [
      "Fitting 5 folds for each of 4560 candidates, totalling 22800 fits\n"
     ]
    },
    {
     "name": "stderr",
     "output_type": "stream",
     "text": [
      "[Parallel(n_jobs=1)]: Using backend SequentialBackend with 1 concurrent workers.\n",
      "[Parallel(n_jobs=1)]: Done 22800 out of 22800 | elapsed:  5.6min finished\n"
     ]
    },
    {
     "name": "stdout",
     "output_type": "stream",
     "text": [
      "0.8506936162199483\n",
      "KNeighborsClassifier(algorithm='auto', leaf_size=3, metric='minkowski',\n",
      "                     metric_params=None, n_jobs=-1, n_neighbors=50, p=1,\n",
      "                     weights='uniform')\n"
     ]
    }
   ],
   "source": [
    "n_neighbors = [1, 2, 3, 4, 5, 6, 7, 8, 9, 10, 12, 14, 16, 18, 20, 30, 35, 40, 50]\n",
    "algorithm = ['auto']\n",
    "weights = ['uniform', 'distance']\n",
    "leaf_size = [1, 2, 3, 4, 5, 10, 15, 20, 25, 30]\n",
    "p = [1, 2, 3]\n",
    "n_jobs = [-1, 1, 2, 3]\n",
    "\n",
    "hyperparams = {\n",
    "    'algorithm': algorithm,\n",
    "    'weights': weights,\n",
    "    'leaf_size': leaf_size,\n",
    "    'n_neighbors': n_neighbors,\n",
    "    'p': p,\n",
    "    'n_jobs': n_jobs\n",
    "}\n",
    "\n",
    "gscv = GridSearchCV(\n",
    "    estimator=KNeighborsClassifier(),\n",
    "    param_grid=hyperparams,\n",
    "    verbose=True,\n",
    "    cv=5,\n",
    "    scoring='accuracy'\n",
    ")\n",
    "\n",
    "gscv.fit(X_train, y_train)\n",
    "print(gscv.best_score_)\n",
    "print(gscv.best_estimator_)"
   ]
  },
  {
   "cell_type": "markdown",
   "metadata": {},
   "source": [
    "RF"
   ]
  },
  {
   "cell_type": "code",
   "execution_count": 919,
   "metadata": {
    "ExecuteTime": {
     "end_time": "2020-08-02T14:11:39.937701Z",
     "start_time": "2020-08-02T13:58:24.688400Z"
    }
   },
   "outputs": [
    {
     "name": "stdout",
     "output_type": "stream",
     "text": [
      "Fitting 5 folds for each of 2000 candidates, totalling 10000 fits\n"
     ]
    },
    {
     "name": "stderr",
     "output_type": "stream",
     "text": [
      "[Parallel(n_jobs=1)]: Using backend SequentialBackend with 1 concurrent workers.\n"
     ]
    },
    {
     "name": "stdout",
     "output_type": "stream",
     "text": [
      "0.86305944385161\n",
      "RandomForestClassifier(bootstrap=True, ccp_alpha=0.0, class_weight=None,\n",
      "                       criterion='gini', max_depth=None, max_features=7,\n",
      "                       max_leaf_nodes=None, max_samples=None,\n",
      "                       min_impurity_decrease=0.0, min_impurity_split=None,\n",
      "                       min_samples_leaf=8, min_samples_split=4,\n",
      "                       min_weight_fraction_leaf=0.0, n_estimators=10,\n",
      "                       n_jobs=None, oob_score=False, random_state=None,\n",
      "                       verbose=0, warm_start=False)\n"
     ]
    },
    {
     "name": "stderr",
     "output_type": "stream",
     "text": [
      "[Parallel(n_jobs=1)]: Done 10000 out of 10000 | elapsed: 13.3min finished\n"
     ]
    }
   ],
   "source": [
    "n_estimators = [10, 25, 50, 75, 100]\n",
    "max_depth = [None, 1, 2, 3]\n",
    "max_features = [1, 3, 5, 7]\n",
    "min_samples_split = [2, 4, 6, 8, 10]\n",
    "min_samples_leaf = [2, 4, 6, 8, 10]\n",
    "\n",
    "hyperparams = {\n",
    "    'n_estimators': n_estimators,\n",
    "    'max_depth': max_depth,\n",
    "    'max_features': max_features,\n",
    "    'min_samples_split': min_samples_split,\n",
    "    'min_samples_leaf': min_samples_leaf\n",
    "}\n",
    "\n",
    "gscv = GridSearchCV(\n",
    "    estimator=RandomForestClassifier(),\n",
    "    param_grid=hyperparams,\n",
    "    verbose=True,\n",
    "    cv=5,\n",
    "    scoring='accuracy'\n",
    ")\n",
    "\n",
    "gscv.fit(X_train, y_train)\n",
    "print(gscv.best_score_)\n",
    "print(gscv.best_estimator_)"
   ]
  },
  {
   "cell_type": "code",
   "execution_count": 957,
   "metadata": {
    "ExecuteTime": {
     "end_time": "2020-08-02T14:36:23.738916Z",
     "start_time": "2020-08-02T14:36:21.726819Z"
    }
   },
   "outputs": [
    {
     "ename": "ValueError",
     "evalue": "Logistic Regression supports only penalties in ['l1', 'l2', 'elasticnet', 'none'], got LogisticRegression(C=1.0, class_weight=None, dual=False, fit_intercept=True,\n                   intercept_scaling=1, l1_ratio=None, max_iter=100,\n                   multi_class='auto', n_jobs=None, penalty='l2',\n                   random_state=None, solver='lbfgs', tol=0.0001, verbose=0,\n                   warm_start=False).",
     "output_type": "error",
     "traceback": [
      "\u001b[1;31m---------------------------------------------------------------------------\u001b[0m",
      "\u001b[1;31mValueError\u001b[0m                                Traceback (most recent call last)",
      "\u001b[1;32m<ipython-input-957-d996a99c8a12>\u001b[0m in \u001b[0;36m<module>\u001b[1;34m\u001b[0m\n\u001b[0;32m     44\u001b[0m \u001b[1;33m\u001b[0m\u001b[0m\n\u001b[0;32m     45\u001b[0m \u001b[1;32mfor\u001b[0m \u001b[0mmod\u001b[0m \u001b[1;32min\u001b[0m \u001b[0mmodels\u001b[0m\u001b[1;33m:\u001b[0m\u001b[1;33m\u001b[0m\u001b[1;33m\u001b[0m\u001b[0m\n\u001b[1;32m---> 46\u001b[1;33m     \u001b[0mmod\u001b[0m\u001b[1;33m.\u001b[0m\u001b[0mfit\u001b[0m\u001b[1;33m(\u001b[0m\u001b[0mX_train\u001b[0m\u001b[1;33m,\u001b[0m \u001b[0my_train\u001b[0m\u001b[1;33m)\u001b[0m\u001b[1;33m\u001b[0m\u001b[1;33m\u001b[0m\u001b[0m\n\u001b[0m\u001b[0;32m     47\u001b[0m     \u001b[0macc\u001b[0m \u001b[1;33m=\u001b[0m \u001b[0mcross_val_score\u001b[0m\u001b[1;33m(\u001b[0m\u001b[0mmod\u001b[0m\u001b[1;33m,\u001b[0m \u001b[0mX_train\u001b[0m\u001b[1;33m,\u001b[0m \u001b[0my_train\u001b[0m\u001b[1;33m,\u001b[0m \u001b[0mscoring\u001b[0m\u001b[1;33m=\u001b[0m\u001b[1;34m'accuracy'\u001b[0m\u001b[1;33m,\u001b[0m \u001b[0mcv\u001b[0m\u001b[1;33m=\u001b[0m\u001b[1;36m10\u001b[0m\u001b[1;33m)\u001b[0m\u001b[1;33m\u001b[0m\u001b[1;33m\u001b[0m\u001b[0m\n\u001b[0;32m     48\u001b[0m     \u001b[0mscores_v3\u001b[0m\u001b[1;33m.\u001b[0m\u001b[0mappend\u001b[0m\u001b[1;33m(\u001b[0m\u001b[0macc\u001b[0m\u001b[1;33m.\u001b[0m\u001b[0mmean\u001b[0m\u001b[1;33m(\u001b[0m\u001b[1;33m)\u001b[0m\u001b[1;33m)\u001b[0m\u001b[1;33m\u001b[0m\u001b[1;33m\u001b[0m\u001b[0m\n",
      "\u001b[1;32m~\\anaconda3\\lib\\site-packages\\sklearn\\linear_model\\_logistic.py\u001b[0m in \u001b[0;36mfit\u001b[1;34m(self, X, y, sample_weight)\u001b[0m\n\u001b[0;32m   1486\u001b[0m         \u001b[0mThe\u001b[0m \u001b[0mSAGA\u001b[0m \u001b[0msolver\u001b[0m \u001b[0msupports\u001b[0m \u001b[0mboth\u001b[0m \u001b[0mfloat64\u001b[0m \u001b[1;32mand\u001b[0m \u001b[0mfloat32\u001b[0m \u001b[0mbit\u001b[0m \u001b[0marrays\u001b[0m\u001b[1;33m.\u001b[0m\u001b[1;33m\u001b[0m\u001b[1;33m\u001b[0m\u001b[0m\n\u001b[0;32m   1487\u001b[0m         \"\"\"\n\u001b[1;32m-> 1488\u001b[1;33m         \u001b[0msolver\u001b[0m \u001b[1;33m=\u001b[0m \u001b[0m_check_solver\u001b[0m\u001b[1;33m(\u001b[0m\u001b[0mself\u001b[0m\u001b[1;33m.\u001b[0m\u001b[0msolver\u001b[0m\u001b[1;33m,\u001b[0m \u001b[0mself\u001b[0m\u001b[1;33m.\u001b[0m\u001b[0mpenalty\u001b[0m\u001b[1;33m,\u001b[0m \u001b[0mself\u001b[0m\u001b[1;33m.\u001b[0m\u001b[0mdual\u001b[0m\u001b[1;33m)\u001b[0m\u001b[1;33m\u001b[0m\u001b[1;33m\u001b[0m\u001b[0m\n\u001b[0m\u001b[0;32m   1489\u001b[0m \u001b[1;33m\u001b[0m\u001b[0m\n\u001b[0;32m   1490\u001b[0m         \u001b[1;32mif\u001b[0m \u001b[1;32mnot\u001b[0m \u001b[0misinstance\u001b[0m\u001b[1;33m(\u001b[0m\u001b[0mself\u001b[0m\u001b[1;33m.\u001b[0m\u001b[0mC\u001b[0m\u001b[1;33m,\u001b[0m \u001b[0mnumbers\u001b[0m\u001b[1;33m.\u001b[0m\u001b[0mNumber\u001b[0m\u001b[1;33m)\u001b[0m \u001b[1;32mor\u001b[0m \u001b[0mself\u001b[0m\u001b[1;33m.\u001b[0m\u001b[0mC\u001b[0m \u001b[1;33m<\u001b[0m \u001b[1;36m0\u001b[0m\u001b[1;33m:\u001b[0m\u001b[1;33m\u001b[0m\u001b[1;33m\u001b[0m\u001b[0m\n",
      "\u001b[1;32m~\\anaconda3\\lib\\site-packages\\sklearn\\linear_model\\_logistic.py\u001b[0m in \u001b[0;36m_check_solver\u001b[1;34m(solver, penalty, dual)\u001b[0m\n\u001b[0;32m    439\u001b[0m     \u001b[1;32mif\u001b[0m \u001b[0mpenalty\u001b[0m \u001b[1;32mnot\u001b[0m \u001b[1;32min\u001b[0m \u001b[0mall_penalties\u001b[0m\u001b[1;33m:\u001b[0m\u001b[1;33m\u001b[0m\u001b[1;33m\u001b[0m\u001b[0m\n\u001b[0;32m    440\u001b[0m         raise ValueError(\"Logistic Regression supports only penalties in %s,\"\n\u001b[1;32m--> 441\u001b[1;33m                          \" got %s.\" % (all_penalties, penalty))\n\u001b[0m\u001b[0;32m    442\u001b[0m \u001b[1;33m\u001b[0m\u001b[0m\n\u001b[0;32m    443\u001b[0m     \u001b[1;32mif\u001b[0m \u001b[0msolver\u001b[0m \u001b[1;32mnot\u001b[0m \u001b[1;32min\u001b[0m \u001b[1;33m[\u001b[0m\u001b[1;34m'liblinear'\u001b[0m\u001b[1;33m,\u001b[0m \u001b[1;34m'saga'\u001b[0m\u001b[1;33m]\u001b[0m \u001b[1;32mand\u001b[0m \u001b[0mpenalty\u001b[0m \u001b[1;32mnot\u001b[0m \u001b[1;32min\u001b[0m \u001b[1;33m(\u001b[0m\u001b[1;34m'l2'\u001b[0m\u001b[1;33m,\u001b[0m \u001b[1;34m'none'\u001b[0m\u001b[1;33m)\u001b[0m\u001b[1;33m:\u001b[0m\u001b[1;33m\u001b[0m\u001b[1;33m\u001b[0m\u001b[0m\n",
      "\u001b[1;31mValueError\u001b[0m: Logistic Regression supports only penalties in ['l1', 'l2', 'elasticnet', 'none'], got LogisticRegression(C=1.0, class_weight=None, dual=False, fit_intercept=True,\n                   intercept_scaling=1, l1_ratio=None, max_iter=100,\n                   multi_class='auto', n_jobs=None, penalty='l2',\n                   random_state=None, solver='lbfgs', tol=0.0001, verbose=0,\n                   warm_start=False)."
     ]
    }
   ],
   "source": [
    "rf = RandomForestClassifier(\n",
    "    n_estimators=10,\n",
    "    max_depth=None,\n",
    "    max_features=7,\n",
    "    min_samples_leaf=8,\n",
    "    min_samples_split=4,\n",
    ")\n",
    "\n",
    "knn = KNeighborsClassifier(\n",
    "    algorithm='auto',\n",
    "    leaf_size=3,\n",
    "    n_neighbors=50,\n",
    "    weights='uniform',\n",
    "    p=1,\n",
    "    n_jobs=-1\n",
    ")\n",
    "\n",
    "# lr = LogisticRegression(\n",
    "#     C=1.0,\n",
    "#     penalty='l2',\n",
    "# )\n",
    "\n",
    "lr = LogisticRegression(gscv.best_estimator_)\n",
    "\n",
    "xgb = XGBClassifier(\n",
    "    learning_rate=0.01,\n",
    "    n_estimators=750,\n",
    "    max_depth=4,\n",
    "    min_child_weight=6,\n",
    "    gamma=0,\n",
    "    subsample=0.65,\n",
    "    colsample_bytree=1,\n",
    "    reg_alpha=1e-05,\n",
    ")\n",
    "\n",
    "svm = SVC(\n",
    "    C=100,\n",
    "    gamma=0.01,\n",
    "    probability=True,\n",
    ")\n",
    "     \n",
    "models = [rf, knn, lr, xgb, svm]\n",
    "scores_v3 = []\n",
    "\n",
    "for mod in models:\n",
    "    mod.fit(X_train, y_train)\n",
    "    acc = cross_val_score(mod, X_train, y_train, scoring='accuracy', cv=10)\n",
    "    scores_v3.append(acc.mean())"
   ]
  },
  {
   "cell_type": "code",
   "execution_count": 928,
   "metadata": {
    "ExecuteTime": {
     "end_time": "2020-08-02T14:17:21.219632Z",
     "start_time": "2020-08-02T14:17:21.205670Z"
    }
   },
   "outputs": [
    {
     "data": {
      "text/html": [
       "<div>\n",
       "<style scoped>\n",
       "    .dataframe tbody tr th:only-of-type {\n",
       "        vertical-align: middle;\n",
       "    }\n",
       "\n",
       "    .dataframe tbody tr th {\n",
       "        vertical-align: top;\n",
       "    }\n",
       "\n",
       "    .dataframe thead th {\n",
       "        text-align: right;\n",
       "    }\n",
       "</style>\n",
       "<table border=\"1\" class=\"dataframe\">\n",
       "  <thead>\n",
       "    <tr style=\"text-align: right;\">\n",
       "      <th></th>\n",
       "      <th>Model</th>\n",
       "      <th>First</th>\n",
       "      <th>Delete feature</th>\n",
       "      <th>Hyper parameters</th>\n",
       "    </tr>\n",
       "  </thead>\n",
       "  <tbody>\n",
       "    <tr>\n",
       "      <th>0</th>\n",
       "      <td>XGBoost</td>\n",
       "      <td>0.842896</td>\n",
       "      <td>0.857516</td>\n",
       "      <td>0.856330</td>\n",
       "    </tr>\n",
       "    <tr>\n",
       "      <th>1</th>\n",
       "      <td>SVM</td>\n",
       "      <td>0.849588</td>\n",
       "      <td>0.851823</td>\n",
       "      <td>0.855194</td>\n",
       "    </tr>\n",
       "    <tr>\n",
       "      <th>2</th>\n",
       "      <td>Random Forest</td>\n",
       "      <td>0.842884</td>\n",
       "      <td>0.847416</td>\n",
       "      <td>0.850724</td>\n",
       "    </tr>\n",
       "    <tr>\n",
       "      <th>3</th>\n",
       "      <td>K Nearest Neighbour</td>\n",
       "      <td>0.812534</td>\n",
       "      <td>0.844007</td>\n",
       "      <td>0.849588</td>\n",
       "    </tr>\n",
       "    <tr>\n",
       "      <th>4</th>\n",
       "      <td>Logistic Regression</td>\n",
       "      <td>0.841785</td>\n",
       "      <td>0.840662</td>\n",
       "      <td>0.840662</td>\n",
       "    </tr>\n",
       "  </tbody>\n",
       "</table>\n",
       "</div>"
      ],
      "text/plain": [
       "                 Model     First  Delete feature  Hyper parameters\n",
       "0              XGBoost  0.842896        0.857516          0.856330\n",
       "1                  SVM  0.849588        0.851823          0.855194\n",
       "2        Random Forest  0.842884        0.847416          0.850724\n",
       "3  K Nearest Neighbour  0.812534        0.844007          0.849588\n",
       "4  Logistic Regression  0.841785        0.840662          0.840662"
      ]
     },
     "execution_count": 928,
     "metadata": {},
     "output_type": "execute_result"
    }
   ],
   "source": [
    "results = pd.DataFrame({\n",
    "    'Model': [\n",
    "        'Random Forest',\n",
    "        'K Nearest Neighbour',\n",
    "        'Logistic Regression',\n",
    "        'XGBoost',\n",
    "        'SVM'\n",
    "    ],\n",
    "    'First': scores,\n",
    "    'Delete feature': scores_v2,\n",
    "    'Hyper parameters': scores_v3})\n",
    "\n",
    "acc_rank = results.sort_values(by='Hyper parameters', ascending=False).reset_index(drop=True)\n",
    "acc_rank"
   ]
  },
  {
   "cell_type": "code",
   "execution_count": 929,
   "metadata": {
    "ExecuteTime": {
     "end_time": "2020-08-02T14:17:26.572002Z",
     "start_time": "2020-08-02T14:17:21.395162Z"
    }
   },
   "outputs": [
    {
     "data": {
      "text/plain": [
       "0.8552059925093634"
      ]
     },
     "execution_count": 929,
     "metadata": {},
     "output_type": "execute_result"
    }
   ],
   "source": [
    "grid_hard = VotingClassifier(\n",
    "    estimators = [\n",
    "        ('Random Forest', rf),\n",
    "        ('Logistic Regression', lr),\n",
    "        ('XGBoost', xgb),\n",
    "        ('SVM', svm),\n",
    "        ('K Nearest Neighbour', knn)\n",
    "    ],\n",
    "    voting = 'hard'\n",
    ")\n",
    "\n",
    "grid_hard_cv = model_selection.cross_validate(grid_hard, X_train, y_train, cv=10)\n",
    "grid_hard.fit(X_train, y_train)\n",
    "\n",
    "grid_hard_cv['test_score'].mean()"
   ]
  },
  {
   "cell_type": "code",
   "execution_count": 930,
   "metadata": {
    "ExecuteTime": {
     "end_time": "2020-08-02T14:17:31.686528Z",
     "start_time": "2020-08-02T14:17:26.735297Z"
    }
   },
   "outputs": [
    {
     "data": {
      "text/plain": [
       "0.8540823970037452"
      ]
     },
     "execution_count": 930,
     "metadata": {},
     "output_type": "execute_result"
    }
   ],
   "source": [
    "grid_soft = VotingClassifier(\n",
    "    estimators = [\n",
    "        ('Random Forest', rf),\n",
    "        ('Logistic Regression', lr),\n",
    "        ('XGBoost', xgb),\n",
    "        ('SVM', svm),\n",
    "        ('K Nearest Neighbour', knn)\n",
    "    ],\n",
    "    voting = 'soft'\n",
    ")\n",
    "\n",
    "grid_soft_cv = model_selection.cross_validate(grid_soft, X_train, y_train, cv=10)\n",
    "grid_soft.fit(X_train, y_train)\n",
    "\n",
    "grid_soft_cv['test_score'].mean()"
   ]
  },
  {
   "cell_type": "code",
   "execution_count": 931,
   "metadata": {
    "ExecuteTime": {
     "end_time": "2020-08-02T14:17:31.944488Z",
     "start_time": "2020-08-02T14:17:31.863705Z"
    },
    "scrolled": true
   },
   "outputs": [],
   "source": [
    "predictions = grid_hard.predict(X_test)\n",
    "\n",
    "submission = pd.concat([pd.DataFrame(passId), pd.DataFrame(predictions)], axis = 'columns')\n",
    "\n",
    "submission.columns = ['PassengerId', 'Survived']\n",
    "submission.to_csv('D:/JISUNG/dacon/titanic/submission.csv', header = True, index = False)"
   ]
  },
  {
   "cell_type": "code",
   "execution_count": null,
   "metadata": {},
   "outputs": [],
   "source": []
  }
 ],
 "metadata": {
  "hide_input": false,
  "kernelspec": {
   "display_name": "Python 3",
   "language": "python",
   "name": "python3"
  },
  "language_info": {
   "codemirror_mode": {
    "name": "ipython",
    "version": 3
   },
   "file_extension": ".py",
   "mimetype": "text/x-python",
   "name": "python",
   "nbconvert_exporter": "python",
   "pygments_lexer": "ipython3",
   "version": "3.7.6"
  },
  "varInspector": {
   "cols": {
    "lenName": 16,
    "lenType": 16,
    "lenVar": 40
   },
   "kernels_config": {
    "python": {
     "delete_cmd_postfix": "",
     "delete_cmd_prefix": "del ",
     "library": "var_list.py",
     "varRefreshCmd": "print(var_dic_list())"
    },
    "r": {
     "delete_cmd_postfix": ") ",
     "delete_cmd_prefix": "rm(",
     "library": "var_list.r",
     "varRefreshCmd": "cat(var_dic_list()) "
    }
   },
   "types_to_exclude": [
    "module",
    "function",
    "builtin_function_or_method",
    "instance",
    "_Feature"
   ],
   "window_display": false
  }
 },
 "nbformat": 4,
 "nbformat_minor": 4
}
