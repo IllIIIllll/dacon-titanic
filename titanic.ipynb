{
 "cells": [
  {
   "cell_type": "code",
   "execution_count": 1726,
   "metadata": {
    "ExecuteTime": {
     "end_time": "2020-08-02T17:23:16.519766Z",
     "start_time": "2020-08-02T17:23:16.514778Z"
    }
   },
   "outputs": [],
   "source": [
    "import math\n",
    "import pandas as pd\n",
    "import numpy as np\n",
    "\n",
    "from sklearn.preprocessing import LabelEncoder\n",
    "from sklearn.preprocessing import StandardScaler\n",
    "from sklearn.neighbors import KNeighborsClassifier\n",
    "from sklearn.linear_model import LogisticRegression\n",
    "from sklearn.ensemble import RandomForestClassifier\n",
    "from sklearn.svm import SVC\n",
    "from xgboost import XGBClassifier\n",
    "from sklearn.ensemble import VotingClassifier\n",
    "\n",
    "from sklearn.model_selection import cross_val_score\n",
    "from sklearn.model_selection import GridSearchCV\n",
    "from sklearn.model_selection import cross_val_predict\n",
    "from sklearn import model_selection"
   ]
  },
  {
   "cell_type": "code",
   "execution_count": 1727,
   "metadata": {
    "ExecuteTime": {
     "end_time": "2020-08-02T17:23:16.764112Z",
     "start_time": "2020-08-02T17:23:16.751149Z"
    }
   },
   "outputs": [],
   "source": [
    "train = pd.read_csv('D:/JISUNG/dacon/titanic/data/train.csv')\n",
    "test = pd.read_csv('D:/JISUNG/dacon/titanic/data/test.csv')"
   ]
  },
  {
   "cell_type": "code",
   "execution_count": 1728,
   "metadata": {
    "ExecuteTime": {
     "end_time": "2020-08-02T17:23:16.972064Z",
     "start_time": "2020-08-02T17:23:16.962107Z"
    }
   },
   "outputs": [],
   "source": [
    "y_train = train['Survived'].values\n",
    "passId = test['PassengerId']\n",
    "data = pd.concat((train, test))"
   ]
  },
  {
   "cell_type": "markdown",
   "metadata": {},
   "source": [
    "인덱스 리셋"
   ]
  },
  {
   "cell_type": "code",
   "execution_count": 1729,
   "metadata": {
    "ExecuteTime": {
     "end_time": "2020-08-02T17:23:17.191914Z",
     "start_time": "2020-08-02T17:23:17.185931Z"
    }
   },
   "outputs": [],
   "source": [
    "data = data.reset_index(drop=True)"
   ]
  },
  {
   "cell_type": "markdown",
   "metadata": {},
   "source": [
    "Fare 결측치를 평균으로 치환"
   ]
  },
  {
   "cell_type": "code",
   "execution_count": 1730,
   "metadata": {
    "ExecuteTime": {
     "end_time": "2020-08-02T17:23:17.400357Z",
     "start_time": "2020-08-02T17:23:17.395370Z"
    }
   },
   "outputs": [],
   "source": [
    "data['Fare'].fillna(data['Fare'].mean(), inplace=True)"
   ]
  },
  {
   "cell_type": "markdown",
   "metadata": {},
   "source": [
    "이름에서 성만 추출"
   ]
  },
  {
   "cell_type": "code",
   "execution_count": 1731,
   "metadata": {
    "ExecuteTime": {
     "end_time": "2020-08-02T17:23:17.733466Z",
     "start_time": "2020-08-02T17:23:17.727483Z"
    }
   },
   "outputs": [],
   "source": [
    "data['Last_Name'] = data['Name'].apply(lambda x: str.split(x, \",\")[0])"
   ]
  },
  {
   "cell_type": "markdown",
   "metadata": {},
   "source": [
    "성과 요금을 기준으로 가족 여부를 판단\n",
    "- 가족이 없을 경우 생존확률 0.5\n",
    "- 가족이 있을 경우 자기 자신을 제외한 나머지 가족들의 생존율을 자신의 생존확률로 채택"
   ]
  },
  {
   "cell_type": "code",
   "execution_count": 1732,
   "metadata": {
    "ExecuteTime": {
     "end_time": "2020-08-02T17:23:18.596462Z",
     "start_time": "2020-08-02T17:23:18.592492Z"
    }
   },
   "outputs": [],
   "source": [
    "data['Probability'] = 0.5"
   ]
  },
  {
   "cell_type": "code",
   "execution_count": 1733,
   "metadata": {
    "ExecuteTime": {
     "end_time": "2020-08-02T17:23:20.373358Z",
     "start_time": "2020-08-02T17:23:18.856766Z"
    }
   },
   "outputs": [],
   "source": [
    "for _, group_df in data.groupby(['Last_Name', 'Fare']):\n",
    "    if len(group_df) != 1:\n",
    "        for idx, row in group_df.iterrows():\n",
    "            probability = group_df.drop(idx)['Survived'].mean()\n",
    "            if math.isnan(probability):\n",
    "                data.loc[data['PassengerId'] == row['PassengerId'], 'Probability'] = 0.5\n",
    "            else:\n",
    "                data.loc[data['PassengerId'] == row['PassengerId'], 'Probability'] = probability"
   ]
  },
  {
   "cell_type": "markdown",
   "metadata": {},
   "source": [
    "티켓 번호를 기준으로 동승자 여부를 판단\n",
    "- 동승자가 없을 경우 생존확률 0.5\n",
    "- (가족이 없는 승객 중) 동승자가 있을 경우 자기 자신을 제외한 나머지 동승자들의 생존율을 자신의 생존확률로 채택"
   ]
  },
  {
   "cell_type": "code",
   "execution_count": 1734,
   "metadata": {
    "ExecuteTime": {
     "end_time": "2020-08-02T17:23:20.589780Z",
     "start_time": "2020-08-02T17:23:20.584793Z"
    }
   },
   "outputs": [],
   "source": [
    "data['Company'] = 0"
   ]
  },
  {
   "cell_type": "code",
   "execution_count": 1735,
   "metadata": {
    "ExecuteTime": {
     "end_time": "2020-08-02T17:23:22.571330Z",
     "start_time": "2020-08-02T17:23:20.801214Z"
    }
   },
   "outputs": [],
   "source": [
    "for _, group_df in data.groupby('Ticket'):\n",
    "    if len(group_df) != 1:\n",
    "        for idx, row in group_df.iterrows():\n",
    "            data.loc[data['PassengerId'] == row['PassengerId'], 'Company'] = len(group_df)\n",
    "            if row['Probability'] == 0.5:\n",
    "                probability = group_df.drop(idx)['Survived'].mean()\n",
    "                if math.isnan(probability):\n",
    "                    data.loc[data['PassengerId'] == row['PassengerId'], 'Probability'] = 0.5\n",
    "                else:\n",
    "                    data.loc[data['PassengerId'] == row['PassengerId'], 'Probability'] = probability"
   ]
  },
  {
   "cell_type": "markdown",
   "metadata": {},
   "source": [
    "요금 4개 범주화"
   ]
  },
  {
   "cell_type": "code",
   "execution_count": 1736,
   "metadata": {
    "ExecuteTime": {
     "end_time": "2020-08-02T17:23:22.777301Z",
     "start_time": "2020-08-02T17:23:22.770320Z"
    }
   },
   "outputs": [],
   "source": [
    "data['Fare'] = pd.qcut(data['Fare'], 4)"
   ]
  },
  {
   "cell_type": "code",
   "execution_count": 1737,
   "metadata": {
    "ExecuteTime": {
     "end_time": "2020-08-02T17:23:22.977765Z",
     "start_time": "2020-08-02T17:23:22.965799Z"
    }
   },
   "outputs": [],
   "source": [
    "label = LabelEncoder()\n",
    "data['Fare'] = label.fit_transform(data['Fare'])"
   ]
  },
  {
   "cell_type": "markdown",
   "metadata": {},
   "source": [
    "호칭 추출"
   ]
  },
  {
   "cell_type": "code",
   "execution_count": 1738,
   "metadata": {
    "ExecuteTime": {
     "end_time": "2020-08-02T17:23:23.171250Z",
     "start_time": "2020-08-02T17:23:23.167270Z"
    }
   },
   "outputs": [],
   "source": [
    "Title_Dictionary = {\n",
    "    'Capt':'ETC',\n",
    "    'Col':'ETC',\n",
    "    'Don':'Nobility',\n",
    "    'Dr':'ETC',\n",
    "    'Jonkheer':'Nobility',\n",
    "    'Lady':'Nobility',\n",
    "    'Major':'ETC',\n",
    "    'Master':'Master',\n",
    "    'Miss':'Miss',\n",
    "    'Mlle':'Miss',\n",
    "    'Mme':'Mrs',\n",
    "    'Mr':'Mr',\n",
    "    'Mrs':'Mrs',\n",
    "    'Ms':'Miss',\n",
    "    'Dona':'Mrs',\n",
    "    'Rev':'ETC',\n",
    "    'Sir':'Nobility',\n",
    "    'the Countess':'Nobility'\n",
    "}"
   ]
  },
  {
   "cell_type": "code",
   "execution_count": 1739,
   "metadata": {
    "ExecuteTime": {
     "end_time": "2020-08-02T17:23:23.365728Z",
     "start_time": "2020-08-02T17:23:23.361738Z"
    }
   },
   "outputs": [],
   "source": [
    "# Title_Dictionary = {\n",
    "#     'Capt':'ETC',\n",
    "#     'Col':'ETC',\n",
    "#     'Don':'ETC',\n",
    "#     'Dr':'ETC',\n",
    "#     'Jonkheer':'ETC',\n",
    "#     'Lady':'ETC',\n",
    "#     'Major':'ETC',\n",
    "#     'Master':'Master',\n",
    "#     'Miss':'Miss',\n",
    "#     'Mlle':'Miss',\n",
    "#     'Mme':'Mrs',\n",
    "#     'Mr':'Mr',\n",
    "#     'Mrs':'Mrs',\n",
    "#     'Ms':'Miss',\n",
    "#     'Dona':'Mrs',\n",
    "#     'Rev':'ETC',\n",
    "#     'Sir':'ETC',\n",
    "#     'the Countess':'ETC'\n",
    "# }"
   ]
  },
  {
   "cell_type": "code",
   "execution_count": 1740,
   "metadata": {
    "ExecuteTime": {
     "end_time": "2020-08-02T17:23:23.577519Z",
     "start_time": "2020-08-02T17:23:23.569541Z"
    }
   },
   "outputs": [],
   "source": [
    "data['Title'] = data['Name'].map(lambda x: x.split(',')[1].split('.')[0].strip())\n",
    "data['Title'] = data.Title.map(Title_Dictionary)"
   ]
  },
  {
   "cell_type": "markdown",
   "metadata": {},
   "source": [
    "나이의 결측치를 호칭의 중앙값으로 치환"
   ]
  },
  {
   "cell_type": "code",
   "execution_count": 1741,
   "metadata": {
    "ExecuteTime": {
     "end_time": "2020-08-02T17:23:23.802904Z",
     "start_time": "2020-08-02T17:23:23.791933Z"
    }
   },
   "outputs": [],
   "source": [
    "data['Age'] = data.groupby('Title')['Age'].apply(lambda x: x.fillna(round(x.median(), 1)))"
   ]
  },
  {
   "cell_type": "markdown",
   "metadata": {},
   "source": [
    "나이 4개 범주화"
   ]
  },
  {
   "cell_type": "code",
   "execution_count": 1742,
   "metadata": {
    "ExecuteTime": {
     "end_time": "2020-08-02T17:23:24.042770Z",
     "start_time": "2020-08-02T17:23:24.034792Z"
    }
   },
   "outputs": [],
   "source": [
    "data['Age'] = pd.qcut(data['Age'], 4)"
   ]
  },
  {
   "cell_type": "code",
   "execution_count": 1743,
   "metadata": {
    "ExecuteTime": {
     "end_time": "2020-08-02T17:23:24.262195Z",
     "start_time": "2020-08-02T17:23:24.251215Z"
    }
   },
   "outputs": [],
   "source": [
    "label = LabelEncoder()\n",
    "data['Age'] = label.fit_transform(data['Age'])"
   ]
  },
  {
   "cell_type": "markdown",
   "metadata": {},
   "source": [
    "호칭 숫자로 변환"
   ]
  },
  {
   "cell_type": "code",
   "execution_count": 1744,
   "metadata": {
    "ExecuteTime": {
     "end_time": "2020-08-02T17:23:24.476610Z",
     "start_time": "2020-08-02T17:23:24.469629Z"
    }
   },
   "outputs": [],
   "source": [
    "data['Title'] = data['Title'].replace(['Mr', 'ETC', 'Nobility', 'Miss', 'Mrs', 'Master'], [0, 1, 2, 3, 4, 5])\n",
    "# data['Title'] = data['Title'].replace(['Mr', 'ETC', 'Miss', 'Mrs', 'Master'], [0, 1, 2, 3, 4])"
   ]
  },
  {
   "cell_type": "markdown",
   "metadata": {},
   "source": [
    "여자와 아이"
   ]
  },
  {
   "cell_type": "code",
   "execution_count": 1745,
   "metadata": {
    "ExecuteTime": {
     "end_time": "2020-08-02T17:23:24.698526Z",
     "start_time": "2020-08-02T17:23:24.693539Z"
    }
   },
   "outputs": [],
   "source": [
    "data['Women_Child'] = 0"
   ]
  },
  {
   "cell_type": "code",
   "execution_count": 1746,
   "metadata": {
    "ExecuteTime": {
     "end_time": "2020-08-02T17:23:24.910958Z",
     "start_time": "2020-08-02T17:23:24.901981Z"
    }
   },
   "outputs": [],
   "source": [
    "data.loc[(data['Sex'] == 'female') & (data['Age'] < 10), 'Women_Child'] = 1"
   ]
  },
  {
   "cell_type": "markdown",
   "metadata": {},
   "source": [
    "성별 숫자로 변환"
   ]
  },
  {
   "cell_type": "code",
   "execution_count": 1747,
   "metadata": {
    "ExecuteTime": {
     "end_time": "2020-08-02T17:23:25.326848Z",
     "start_time": "2020-08-02T17:23:25.319863Z"
    }
   },
   "outputs": [],
   "source": [
    "data['Sex'] = data['Sex'].replace(['male', 'female'], [0, 1])"
   ]
  },
  {
   "cell_type": "markdown",
   "metadata": {},
   "source": [
    "항구 결측치 최빈값으로 치환"
   ]
  },
  {
   "cell_type": "code",
   "execution_count": 1748,
   "metadata": {
    "ExecuteTime": {
     "end_time": "2020-08-02T17:23:26.124737Z",
     "start_time": "2020-08-02T17:23:26.118754Z"
    }
   },
   "outputs": [],
   "source": [
    "data['Embarked'] = data['Embarked'].fillna(data['Embarked'].mode()[0])"
   ]
  },
  {
   "cell_type": "markdown",
   "metadata": {},
   "source": [
    "항구 숫자로 변환"
   ]
  },
  {
   "cell_type": "code",
   "execution_count": 1749,
   "metadata": {
    "ExecuteTime": {
     "end_time": "2020-08-02T17:23:26.669280Z",
     "start_time": "2020-08-02T17:23:26.663297Z"
    }
   },
   "outputs": [],
   "source": [
    "data['Embarked'] = data['Embarked'].replace(['S', 'C', 'Q'], [0, 1, 2])"
   ]
  },
  {
   "cell_type": "markdown",
   "metadata": {},
   "source": [
    "객실 결측치를 N으로 치환"
   ]
  },
  {
   "cell_type": "code",
   "execution_count": 1750,
   "metadata": {
    "ExecuteTime": {
     "end_time": "2020-08-02T17:23:27.138579Z",
     "start_time": "2020-08-02T17:23:27.134591Z"
    }
   },
   "outputs": [],
   "source": [
    "data['Cabin'].fillna('N',inplace=True)"
   ]
  },
  {
   "cell_type": "markdown",
   "metadata": {},
   "source": [
    "객실의 문자 부분 추출"
   ]
  },
  {
   "cell_type": "code",
   "execution_count": 1751,
   "metadata": {
    "ExecuteTime": {
     "end_time": "2020-08-02T17:23:27.580398Z",
     "start_time": "2020-08-02T17:23:27.576409Z"
    }
   },
   "outputs": [],
   "source": [
    "data['Cabin'] = data['Cabin'].map(lambda x: x[0])"
   ]
  },
  {
   "cell_type": "markdown",
   "metadata": {},
   "source": [
    "객실 결측치 처리\n",
    "- Pclass 1 : 3\n",
    "- Pclass 2 : 2\n",
    "- Pclass 3 : 0"
   ]
  },
  {
   "cell_type": "code",
   "execution_count": 1752,
   "metadata": {
    "ExecuteTime": {
     "end_time": "2020-08-02T17:23:28.492184Z",
     "start_time": "2020-08-02T17:23:28.487199Z"
    }
   },
   "outputs": [],
   "source": [
    "Cabin_Dictionary = {\n",
    "    'A':'3',\n",
    "    'B':'3',\n",
    "    'C':'3',\n",
    "    'D':'2',\n",
    "    'E':'2',\n",
    "    'F':'1',\n",
    "    'G':'1',\n",
    "    'T':'3',\n",
    "    'N':'0'\n",
    "}"
   ]
  },
  {
   "cell_type": "code",
   "execution_count": 1753,
   "metadata": {
    "ExecuteTime": {
     "end_time": "2020-08-02T17:23:29.021500Z",
     "start_time": "2020-08-02T17:23:29.016512Z"
    }
   },
   "outputs": [],
   "source": [
    "data['Cabin'] = data.Cabin.map(Cabin_Dictionary)"
   ]
  },
  {
   "cell_type": "code",
   "execution_count": 1754,
   "metadata": {
    "ExecuteTime": {
     "end_time": "2020-08-02T17:23:29.499758Z",
     "start_time": "2020-08-02T17:23:29.495768Z"
    }
   },
   "outputs": [],
   "source": [
    "data['Cabin'] = data.Cabin.astype(int)"
   ]
  },
  {
   "cell_type": "code",
   "execution_count": 1755,
   "metadata": {
    "ExecuteTime": {
     "end_time": "2020-08-02T17:23:29.910686Z",
     "start_time": "2020-08-02T17:23:29.903677Z"
    }
   },
   "outputs": [],
   "source": [
    "data.loc[(data.Pclass == 1) & (data.Cabin == 2), 'Cabin'] = 2"
   ]
  },
  {
   "cell_type": "markdown",
   "metadata": {},
   "source": [
    "가족 컬럼 생성"
   ]
  },
  {
   "cell_type": "code",
   "execution_count": 1756,
   "metadata": {
    "ExecuteTime": {
     "end_time": "2020-08-02T17:23:30.878132Z",
     "start_time": "2020-08-02T17:23:30.872146Z"
    }
   },
   "outputs": [],
   "source": [
    "data['Family'] = data['SibSp'] + data['Parch'] + 1"
   ]
  },
  {
   "cell_type": "markdown",
   "metadata": {},
   "source": [
    "불필요 컬럼 제거"
   ]
  },
  {
   "cell_type": "code",
   "execution_count": 1757,
   "metadata": {
    "ExecuteTime": {
     "end_time": "2020-08-02T17:23:31.965008Z",
     "start_time": "2020-08-02T17:23:31.959051Z"
    }
   },
   "outputs": [],
   "source": [
    "data = data.drop(['Survived', 'Name', 'SibSp', 'Parch', 'Ticket', 'Last_Name', 'PassengerId'], axis=1)"
   ]
  },
  {
   "cell_type": "markdown",
   "metadata": {},
   "source": [
    "train/test 데이터 분리"
   ]
  },
  {
   "cell_type": "code",
   "execution_count": 1758,
   "metadata": {
    "ExecuteTime": {
     "end_time": "2020-08-02T17:23:32.379970Z",
     "start_time": "2020-08-02T17:23:32.375953Z"
    }
   },
   "outputs": [],
   "source": [
    "train = data[:891]\n",
    "test = data[891:]"
   ]
  },
  {
   "cell_type": "markdown",
   "metadata": {},
   "source": [
    "표준화"
   ]
  },
  {
   "cell_type": "code",
   "execution_count": 1759,
   "metadata": {
    "ExecuteTime": {
     "end_time": "2020-08-02T17:23:32.943462Z",
     "start_time": "2020-08-02T17:23:32.936455Z"
    },
    "scrolled": true
   },
   "outputs": [],
   "source": [
    "X_train = train\n",
    "X_test = test\n",
    "\n",
    "scaler = StandardScaler()\n",
    "X_train = scaler.fit_transform(X_train)\n",
    "X_test = scaler.transform(X_test)"
   ]
  },
  {
   "cell_type": "markdown",
   "metadata": {},
   "source": [
    "5개 모델 생성"
   ]
  },
  {
   "cell_type": "code",
   "execution_count": 1760,
   "metadata": {
    "ExecuteTime": {
     "end_time": "2020-08-02T17:23:37.065952Z",
     "start_time": "2020-08-02T17:23:33.840292Z"
    }
   },
   "outputs": [],
   "source": [
    "rf = RandomForestClassifier(random_state=1)\n",
    "knn = KNeighborsClassifier()\n",
    "lr = LogisticRegression()\n",
    "xgb = XGBClassifier()\n",
    "svm = SVC(probability=True)\n",
    "  \n",
    "models = [rf, knn, lr, xgb, svm]\n",
    "scores = []\n",
    "\n",
    "for mod in models:\n",
    "    mod.fit(X_train, y_train)\n",
    "    acc = cross_val_score(mod, X_train, y_train, scoring='accuracy', cv=10)\n",
    "    scores.append(acc.mean())"
   ]
  },
  {
   "cell_type": "code",
   "execution_count": 1761,
   "metadata": {
    "ExecuteTime": {
     "end_time": "2020-08-02T17:23:37.270723Z",
     "start_time": "2020-08-02T17:23:37.259745Z"
    },
    "scrolled": true
   },
   "outputs": [
    {
     "data": {
      "text/html": [
       "<div>\n",
       "<style scoped>\n",
       "    .dataframe tbody tr th:only-of-type {\n",
       "        vertical-align: middle;\n",
       "    }\n",
       "\n",
       "    .dataframe tbody tr th {\n",
       "        vertical-align: top;\n",
       "    }\n",
       "\n",
       "    .dataframe thead th {\n",
       "        text-align: right;\n",
       "    }\n",
       "</style>\n",
       "<table border=\"1\" class=\"dataframe\">\n",
       "  <thead>\n",
       "    <tr style=\"text-align: right;\">\n",
       "      <th></th>\n",
       "      <th>Model</th>\n",
       "      <th>First</th>\n",
       "    </tr>\n",
       "  </thead>\n",
       "  <tbody>\n",
       "    <tr>\n",
       "      <th>0</th>\n",
       "      <td>SVM</td>\n",
       "      <td>0.850699</td>\n",
       "    </tr>\n",
       "    <tr>\n",
       "      <th>1</th>\n",
       "      <td>K Nearest Neighbour</td>\n",
       "      <td>0.844007</td>\n",
       "    </tr>\n",
       "    <tr>\n",
       "      <th>2</th>\n",
       "      <td>XGBoost</td>\n",
       "      <td>0.842921</td>\n",
       "    </tr>\n",
       "    <tr>\n",
       "      <th>3</th>\n",
       "      <td>Logistic Regression</td>\n",
       "      <td>0.841785</td>\n",
       "    </tr>\n",
       "    <tr>\n",
       "      <th>4</th>\n",
       "      <td>Random Forest</td>\n",
       "      <td>0.839526</td>\n",
       "    </tr>\n",
       "  </tbody>\n",
       "</table>\n",
       "</div>"
      ],
      "text/plain": [
       "                 Model     First\n",
       "0                  SVM  0.850699\n",
       "1  K Nearest Neighbour  0.844007\n",
       "2              XGBoost  0.842921\n",
       "3  Logistic Regression  0.841785\n",
       "4        Random Forest  0.839526"
      ]
     },
     "execution_count": 1761,
     "metadata": {},
     "output_type": "execute_result"
    }
   ],
   "source": [
    "results = pd.DataFrame({\n",
    "    'Model': [\n",
    "        'Random Forest',\n",
    "        'K Nearest Neighbour',\n",
    "        'Logistic Regression',\n",
    "        'XGBoost',\n",
    "        'SVM'\n",
    "    ],\n",
    "    'First': scores})\n",
    "\n",
    "acc_rank = results.sort_values(by='First', ascending=False).reset_index(drop=True)\n",
    "acc_rank"
   ]
  },
  {
   "cell_type": "markdown",
   "metadata": {},
   "source": [
    "변수 선택"
   ]
  },
  {
   "cell_type": "code",
   "execution_count": 1762,
   "metadata": {
    "ExecuteTime": {
     "end_time": "2020-08-02T17:23:39.261838Z",
     "start_time": "2020-08-02T17:23:39.199523Z"
    }
   },
   "outputs": [
    {
     "data": {
      "text/html": [
       "<div>\n",
       "<style scoped>\n",
       "    .dataframe tbody tr th:only-of-type {\n",
       "        vertical-align: middle;\n",
       "    }\n",
       "\n",
       "    .dataframe tbody tr th {\n",
       "        vertical-align: top;\n",
       "    }\n",
       "\n",
       "    .dataframe thead th {\n",
       "        text-align: right;\n",
       "    }\n",
       "</style>\n",
       "<table border=\"1\" class=\"dataframe\">\n",
       "  <thead>\n",
       "    <tr style=\"text-align: right;\">\n",
       "      <th></th>\n",
       "      <th>Feature</th>\n",
       "      <th>xgb importance</th>\n",
       "      <th>rf importance</th>\n",
       "      <th>Average</th>\n",
       "    </tr>\n",
       "  </thead>\n",
       "  <tbody>\n",
       "    <tr>\n",
       "      <th>0</th>\n",
       "      <td>Title</td>\n",
       "      <td>0.441628</td>\n",
       "      <td>0.171471</td>\n",
       "      <td>0.306549</td>\n",
       "    </tr>\n",
       "    <tr>\n",
       "      <th>1</th>\n",
       "      <td>Probability</td>\n",
       "      <td>0.146293</td>\n",
       "      <td>0.127241</td>\n",
       "      <td>0.136767</td>\n",
       "    </tr>\n",
       "    <tr>\n",
       "      <th>2</th>\n",
       "      <td>Pclass</td>\n",
       "      <td>0.159641</td>\n",
       "      <td>0.080745</td>\n",
       "      <td>0.120193</td>\n",
       "    </tr>\n",
       "    <tr>\n",
       "      <th>3</th>\n",
       "      <td>Cabin</td>\n",
       "      <td>0.074810</td>\n",
       "      <td>0.063896</td>\n",
       "      <td>0.069353</td>\n",
       "    </tr>\n",
       "    <tr>\n",
       "      <th>4</th>\n",
       "      <td>Sex</td>\n",
       "      <td>0.013011</td>\n",
       "      <td>0.125066</td>\n",
       "      <td>0.069039</td>\n",
       "    </tr>\n",
       "    <tr>\n",
       "      <th>5</th>\n",
       "      <td>Company</td>\n",
       "      <td>0.042345</td>\n",
       "      <td>0.077634</td>\n",
       "      <td>0.059989</td>\n",
       "    </tr>\n",
       "    <tr>\n",
       "      <th>6</th>\n",
       "      <td>Women_Child</td>\n",
       "      <td>0.000000</td>\n",
       "      <td>0.106050</td>\n",
       "      <td>0.053025</td>\n",
       "    </tr>\n",
       "    <tr>\n",
       "      <th>7</th>\n",
       "      <td>Family</td>\n",
       "      <td>0.028584</td>\n",
       "      <td>0.076314</td>\n",
       "      <td>0.052449</td>\n",
       "    </tr>\n",
       "    <tr>\n",
       "      <th>8</th>\n",
       "      <td>Age</td>\n",
       "      <td>0.025832</td>\n",
       "      <td>0.073529</td>\n",
       "      <td>0.049681</td>\n",
       "    </tr>\n",
       "    <tr>\n",
       "      <th>9</th>\n",
       "      <td>Fare</td>\n",
       "      <td>0.036234</td>\n",
       "      <td>0.055218</td>\n",
       "      <td>0.045726</td>\n",
       "    </tr>\n",
       "    <tr>\n",
       "      <th>10</th>\n",
       "      <td>Embarked</td>\n",
       "      <td>0.031622</td>\n",
       "      <td>0.042836</td>\n",
       "      <td>0.037229</td>\n",
       "    </tr>\n",
       "  </tbody>\n",
       "</table>\n",
       "</div>"
      ],
      "text/plain": [
       "        Feature  xgb importance  rf importance   Average\n",
       "0         Title        0.441628       0.171471  0.306549\n",
       "1   Probability        0.146293       0.127241  0.136767\n",
       "2        Pclass        0.159641       0.080745  0.120193\n",
       "3         Cabin        0.074810       0.063896  0.069353\n",
       "4           Sex        0.013011       0.125066  0.069039\n",
       "5       Company        0.042345       0.077634  0.059989\n",
       "6   Women_Child        0.000000       0.106050  0.053025\n",
       "7        Family        0.028584       0.076314  0.052449\n",
       "8           Age        0.025832       0.073529  0.049681\n",
       "9          Fare        0.036234       0.055218  0.045726\n",
       "10     Embarked        0.031622       0.042836  0.037229"
      ]
     },
     "execution_count": 1762,
     "metadata": {},
     "output_type": "execute_result"
    }
   ],
   "source": [
    "xgb_imp = pd.DataFrame({'Feature':train.columns, 'xgb importance':xgb.feature_importances_})\n",
    "rf_imp = pd.DataFrame({'Feature':train.columns, 'rf importance':rf.feature_importances_})\n",
    "\n",
    "importances = xgb_imp.merge(rf_imp, on='Feature')\n",
    "importances['Average'] = importances.mean(axis=1)\n",
    "importances = importances.sort_values(by='Average', ascending=False).reset_index(drop=True)\n",
    "\n",
    "importances"
   ]
  },
  {
   "cell_type": "markdown",
   "metadata": {},
   "source": [
    "변수 제거"
   ]
  },
  {
   "cell_type": "code",
   "execution_count": 1763,
   "metadata": {
    "ExecuteTime": {
     "end_time": "2020-08-02T17:23:42.985322Z",
     "start_time": "2020-08-02T17:23:42.975339Z"
    }
   },
   "outputs": [],
   "source": [
    "train = train.drop(['Embarked', 'Fare', 'Age'], axis=1)\n",
    "test = test.drop(['Embarked', 'Fare', 'Age'], axis=1)\n",
    "\n",
    "X_train = train\n",
    "X_test = test\n",
    "\n",
    "X_train = scaler.fit_transform(X_train)\n",
    "X_test = scaler.transform(X_test)"
   ]
  },
  {
   "cell_type": "markdown",
   "metadata": {},
   "source": [
    "5개 모델 생성"
   ]
  },
  {
   "cell_type": "code",
   "execution_count": 1764,
   "metadata": {
    "ExecuteTime": {
     "end_time": "2020-08-02T17:23:47.246918Z",
     "start_time": "2020-08-02T17:23:44.383554Z"
    }
   },
   "outputs": [],
   "source": [
    "rf = RandomForestClassifier(random_state=1)\n",
    "knn = KNeighborsClassifier()\n",
    "lr = LogisticRegression()\n",
    "xgb = XGBClassifier(random_state=1)\n",
    "svm = SVC(probability=True)\n",
    "      \n",
    "models = [rf, knn, lr, xgb, svm]\n",
    "scores_v2 = []\n",
    "\n",
    "for mod in models:\n",
    "    mod.fit(X_train, y_train)\n",
    "    acc = cross_val_score(mod, X_train, y_train, scoring='accuracy', cv=10)\n",
    "    scores_v2.append(acc.mean())"
   ]
  },
  {
   "cell_type": "code",
   "execution_count": 1765,
   "metadata": {
    "ExecuteTime": {
     "end_time": "2020-08-02T17:23:47.442820Z",
     "start_time": "2020-08-02T17:23:47.429867Z"
    }
   },
   "outputs": [
    {
     "data": {
      "text/html": [
       "<div>\n",
       "<style scoped>\n",
       "    .dataframe tbody tr th:only-of-type {\n",
       "        vertical-align: middle;\n",
       "    }\n",
       "\n",
       "    .dataframe tbody tr th {\n",
       "        vertical-align: top;\n",
       "    }\n",
       "\n",
       "    .dataframe thead th {\n",
       "        text-align: right;\n",
       "    }\n",
       "</style>\n",
       "<table border=\"1\" class=\"dataframe\">\n",
       "  <thead>\n",
       "    <tr style=\"text-align: right;\">\n",
       "      <th></th>\n",
       "      <th>Model</th>\n",
       "      <th>First</th>\n",
       "      <th>Delete feature</th>\n",
       "    </tr>\n",
       "  </thead>\n",
       "  <tbody>\n",
       "    <tr>\n",
       "      <th>0</th>\n",
       "      <td>SVM</td>\n",
       "      <td>0.850699</td>\n",
       "      <td>0.854057</td>\n",
       "    </tr>\n",
       "    <tr>\n",
       "      <th>1</th>\n",
       "      <td>Random Forest</td>\n",
       "      <td>0.839526</td>\n",
       "      <td>0.847366</td>\n",
       "    </tr>\n",
       "    <tr>\n",
       "      <th>2</th>\n",
       "      <td>XGBoost</td>\n",
       "      <td>0.842921</td>\n",
       "      <td>0.847366</td>\n",
       "    </tr>\n",
       "    <tr>\n",
       "      <th>3</th>\n",
       "      <td>Logistic Regression</td>\n",
       "      <td>0.841785</td>\n",
       "      <td>0.845144</td>\n",
       "    </tr>\n",
       "    <tr>\n",
       "      <th>4</th>\n",
       "      <td>K Nearest Neighbour</td>\n",
       "      <td>0.844007</td>\n",
       "      <td>0.840637</td>\n",
       "    </tr>\n",
       "  </tbody>\n",
       "</table>\n",
       "</div>"
      ],
      "text/plain": [
       "                 Model     First  Delete feature\n",
       "0                  SVM  0.850699        0.854057\n",
       "1        Random Forest  0.839526        0.847366\n",
       "2              XGBoost  0.842921        0.847366\n",
       "3  Logistic Regression  0.841785        0.845144\n",
       "4  K Nearest Neighbour  0.844007        0.840637"
      ]
     },
     "execution_count": 1765,
     "metadata": {},
     "output_type": "execute_result"
    }
   ],
   "source": [
    "results = pd.DataFrame({\n",
    "    'Model': [\n",
    "        'Random Forest',\n",
    "        'K Nearest Neighbour',\n",
    "        'Logistic Regression',\n",
    "        'XGBoost',\n",
    "        'SVM'\n",
    "    ],\n",
    "    'First': scores,\n",
    "    'Delete feature': scores_v2})\n",
    "\n",
    "acc_rank = results.sort_values(by='Delete feature', ascending=False).reset_index(drop=True)\n",
    "acc_rank"
   ]
  },
  {
   "cell_type": "markdown",
   "metadata": {},
   "source": [
    "SVM"
   ]
  },
  {
   "cell_type": "code",
   "execution_count": 1709,
   "metadata": {
    "ExecuteTime": {
     "end_time": "2020-08-02T17:10:51.583176Z",
     "start_time": "2020-08-02T17:10:39.152890Z"
    }
   },
   "outputs": [
    {
     "name": "stdout",
     "output_type": "stream",
     "text": [
      "Fitting 5 folds for each of 40 candidates, totalling 200 fits\n"
     ]
    },
    {
     "name": "stderr",
     "output_type": "stream",
     "text": [
      "[Parallel(n_jobs=1)]: Using backend SequentialBackend with 1 concurrent workers.\n"
     ]
    },
    {
     "name": "stdout",
     "output_type": "stream",
     "text": [
      "0.8563178708179022\n",
      "SVC(C=20, break_ties=False, cache_size=200, class_weight=None, coef0=0.0,\n",
      "    decision_function_shape='ovr', degree=3, gamma=0.01, kernel='rbf',\n",
      "    max_iter=-1, probability=True, random_state=None, shrinking=True, tol=0.001,\n",
      "    verbose=False)\n"
     ]
    },
    {
     "name": "stderr",
     "output_type": "stream",
     "text": [
      "[Parallel(n_jobs=1)]: Done 200 out of 200 | elapsed:   12.2s finished\n"
     ]
    }
   ],
   "source": [
    "C = [0.001, 0.01, 0.1, 1, 5, 10, 15, 20, 50, 100]\n",
    "gamma = [0.001, 0.01, 0.1, 1]\n",
    "\n",
    "hyperparams = {'C': C, 'gamma' : gamma}\n",
    "\n",
    "gs_svm = GridSearchCV(\n",
    "    estimator=SVC(probability=True),\n",
    "    param_grid=hyperparams,\n",
    "    verbose=True,\n",
    "    cv=5,\n",
    "    scoring='accuracy'\n",
    ")\n",
    "\n",
    "gs_svm.fit(X_train, y_train)\n",
    "print(gs_svm.best_score_)\n",
    "print(gs_svm.best_estimator_)"
   ]
  },
  {
   "cell_type": "markdown",
   "metadata": {},
   "source": [
    "LR"
   ]
  },
  {
   "cell_type": "code",
   "execution_count": 1710,
   "metadata": {
    "ExecuteTime": {
     "end_time": "2020-08-02T17:10:52.108353Z",
     "start_time": "2020-08-02T17:10:51.767684Z"
    }
   },
   "outputs": [
    {
     "name": "stdout",
     "output_type": "stream",
     "text": [
      "Fitting 5 folds for each of 20 candidates, totalling 100 fits\n"
     ]
    },
    {
     "name": "stderr",
     "output_type": "stream",
     "text": [
      "[Parallel(n_jobs=1)]: Using backend SequentialBackend with 1 concurrent workers.\n"
     ]
    },
    {
     "name": "stdout",
     "output_type": "stream",
     "text": [
      "0.8395016006528152\n",
      "LogisticRegression(C=1.0, class_weight=None, dual=False, fit_intercept=True,\n",
      "                   intercept_scaling=1, l1_ratio=None, max_iter=100,\n",
      "                   multi_class='auto', n_jobs=None, penalty='l2',\n",
      "                   random_state=None, solver='lbfgs', tol=0.0001, verbose=0,\n",
      "                   warm_start=False)\n"
     ]
    },
    {
     "name": "stderr",
     "output_type": "stream",
     "text": [
      "[Parallel(n_jobs=1)]: Done 100 out of 100 | elapsed:    0.2s finished\n"
     ]
    }
   ],
   "source": [
    "penalty = ['l1', 'l2']\n",
    "C = np.logspace(0, 5, 10)\n",
    "\n",
    "hyperparams = {'penalty': penalty, 'C': C}\n",
    "\n",
    "gs_lr = GridSearchCV(\n",
    "    estimator=LogisticRegression(),\n",
    "    param_grid=hyperparams,\n",
    "    verbose=True,\n",
    "    cv=5,\n",
    "    scoring='accuracy'\n",
    ")\n",
    "\n",
    "gs_lr.fit(X_train, y_train)\n",
    "print(gs_lr.best_score_)\n",
    "print(gs_lr.best_estimator_)"
   ]
  },
  {
   "cell_type": "markdown",
   "metadata": {},
   "source": [
    "XGB"
   ]
  },
  {
   "cell_type": "code",
   "execution_count": 1711,
   "metadata": {
    "ExecuteTime": {
     "end_time": "2020-08-02T17:11:33.914756Z",
     "start_time": "2020-08-02T17:10:52.279434Z"
    }
   },
   "outputs": [
    {
     "name": "stdout",
     "output_type": "stream",
     "text": [
      "Fitting 5 folds for each of 72 candidates, totalling 360 fits\n"
     ]
    },
    {
     "name": "stderr",
     "output_type": "stream",
     "text": [
      "[Parallel(n_jobs=1)]: Using backend SequentialBackend with 1 concurrent workers.\n"
     ]
    },
    {
     "name": "stdout",
     "output_type": "stream",
     "text": [
      "0.8484840876278952\n",
      "XGBClassifier(base_score=0.5, booster='gbtree', colsample_bylevel=1,\n",
      "              colsample_bynode=1, colsample_bytree=1, gamma=0, gpu_id=-1,\n",
      "              importance_type='gain', interaction_constraints='',\n",
      "              learning_rate=0.1, max_delta_step=0, max_depth=6,\n",
      "              min_child_weight=1, missing=nan, monotone_constraints='()',\n",
      "              n_estimators=250, n_jobs=0, num_parallel_tree=1,\n",
      "              objective='binary:logistic', random_state=0, reg_alpha=0,\n",
      "              reg_lambda=1, scale_pos_weight=1, subsample=1,\n",
      "              tree_method='exact', validate_parameters=1, verbosity=None)\n"
     ]
    },
    {
     "name": "stderr",
     "output_type": "stream",
     "text": [
      "[Parallel(n_jobs=1)]: Done 360 out of 360 | elapsed:   41.4s finished\n"
     ]
    }
   ],
   "source": [
    "learning_rate = [0.0001, 0.0005, 0.001, 0.005, 0.01, 0.05, 0.1, 0.2]\n",
    "n_estimators = [10, 25, 50, 75, 100, 250, 500, 750, 1000]\n",
    "\n",
    "hyperparams = {\n",
    "    'learning_rate': learning_rate,\n",
    "    'n_estimators': n_estimators\n",
    "}\n",
    "\n",
    "gs_xgb = GridSearchCV(\n",
    "    estimator=XGBClassifier(),\n",
    "    param_grid=hyperparams,\n",
    "    verbose=True,\n",
    "    cv=5,\n",
    "    scoring='accuracy'\n",
    ")\n",
    "\n",
    "gs_xgb.fit(X_train, y_train)\n",
    "print(gs_xgb.best_score_)\n",
    "print(gs_xgb.best_estimator_)"
   ]
  },
  {
   "cell_type": "code",
   "execution_count": 1712,
   "metadata": {
    "ExecuteTime": {
     "end_time": "2020-08-02T17:12:02.243357Z",
     "start_time": "2020-08-02T17:11:41.240068Z"
    }
   },
   "outputs": [
    {
     "name": "stdout",
     "output_type": "stream",
     "text": [
      "Fitting 5 folds for each of 48 candidates, totalling 240 fits\n"
     ]
    },
    {
     "name": "stderr",
     "output_type": "stream",
     "text": [
      "[Parallel(n_jobs=1)]: Using backend SequentialBackend with 1 concurrent workers.\n"
     ]
    },
    {
     "name": "stdout",
     "output_type": "stream",
     "text": [
      "0.8529533613709119\n",
      "XGBClassifier(base_score=0.5, booster='gbtree', colsample_bylevel=1,\n",
      "              colsample_bynode=1, colsample_bytree=1, gamma=0, gpu_id=-1,\n",
      "              importance_type='gain', interaction_constraints='',\n",
      "              learning_rate=0.1, max_delta_step=0, max_depth=3,\n",
      "              min_child_weight=3, missing=nan, monotone_constraints='()',\n",
      "              n_estimators=250, n_jobs=0, num_parallel_tree=1,\n",
      "              objective='binary:logistic', random_state=0, reg_alpha=0,\n",
      "              reg_lambda=1, scale_pos_weight=1, subsample=1,\n",
      "              tree_method='exact', validate_parameters=1, verbosity=None)\n"
     ]
    },
    {
     "name": "stderr",
     "output_type": "stream",
     "text": [
      "[Parallel(n_jobs=1)]: Done 240 out of 240 | elapsed:   20.8s finished\n"
     ]
    }
   ],
   "source": [
    "max_depth = [3, 4, 5, 6, 7, 8, 9, 10]\n",
    "min_child_weight = [1, 2, 3, 4, 5, 6]\n",
    "\n",
    "hyperparams = {\n",
    "    'max_depth': max_depth,\n",
    "    'min_child_weight': min_child_weight\n",
    "}\n",
    "\n",
    "gs_xgb = GridSearchCV(\n",
    "    estimator=XGBClassifier(\n",
    "        learning_rate=0.1,\n",
    "        n_estimators=250\n",
    "    ),\n",
    "    param_grid=hyperparams,\n",
    "    verbose=True,\n",
    "    cv=5,\n",
    "    scoring='accuracy'\n",
    ")\n",
    "\n",
    "gs_xgb.fit(X_train, y_train)\n",
    "print(gs_xgb.best_score_)\n",
    "print(gs_xgb.best_estimator_)"
   ]
  },
  {
   "cell_type": "code",
   "execution_count": 1713,
   "metadata": {
    "ExecuteTime": {
     "end_time": "2020-08-02T17:12:36.221216Z",
     "start_time": "2020-08-02T17:12:34.849375Z"
    }
   },
   "outputs": [
    {
     "name": "stdout",
     "output_type": "stream",
     "text": [
      "Fitting 5 folds for each of 5 candidates, totalling 25 fits\n"
     ]
    },
    {
     "name": "stderr",
     "output_type": "stream",
     "text": [
      "[Parallel(n_jobs=1)]: Using backend SequentialBackend with 1 concurrent workers.\n"
     ]
    },
    {
     "name": "stdout",
     "output_type": "stream",
     "text": [
      "0.8540644027368025\n",
      "XGBClassifier(base_score=0.5, booster='gbtree', colsample_bylevel=1,\n",
      "              colsample_bynode=1, colsample_bytree=1, gamma=0.30000000000000004,\n",
      "              gpu_id=-1, importance_type='gain', interaction_constraints='',\n",
      "              learning_rate=0.1, max_delta_step=0, max_depth=3,\n",
      "              min_child_weight=3, missing=nan, monotone_constraints='()',\n",
      "              n_estimators=250, n_jobs=0, num_parallel_tree=1,\n",
      "              objective='binary:logistic', random_state=0, reg_alpha=0,\n",
      "              reg_lambda=1, scale_pos_weight=1, subsample=1,\n",
      "              tree_method='exact', validate_parameters=1, verbosity=None)\n"
     ]
    },
    {
     "name": "stderr",
     "output_type": "stream",
     "text": [
      "[Parallel(n_jobs=1)]: Done  25 out of  25 | elapsed:    1.2s finished\n"
     ]
    }
   ],
   "source": [
    "gamma = [i*0.1 for i in range(0,5)]\n",
    "\n",
    "hyperparams = {'gamma': gamma}\n",
    "\n",
    "gs_xgb = GridSearchCV(\n",
    "    estimator=XGBClassifier(\n",
    "        learning_rate=0.1,\n",
    "        n_estimators=250,\n",
    "        max_depth=3,\n",
    "        min_child_weight=3\n",
    "    ),\n",
    "    param_grid=hyperparams,\n",
    "    verbose=True,\n",
    "    cv=5,\n",
    "    scoring='accuracy')\n",
    "\n",
    "gs_xgb.fit(X_train, y_train)\n",
    "print(gs_xgb.best_score_)\n",
    "print(gs_xgb.best_estimator_)"
   ]
  },
  {
   "cell_type": "code",
   "execution_count": 1714,
   "metadata": {
    "ExecuteTime": {
     "end_time": "2020-08-02T17:13:14.394796Z",
     "start_time": "2020-08-02T17:12:49.440636Z"
    }
   },
   "outputs": [
    {
     "name": "stdout",
     "output_type": "stream",
     "text": [
      "Fitting 5 folds for each of 81 candidates, totalling 405 fits\n"
     ]
    },
    {
     "name": "stderr",
     "output_type": "stream",
     "text": [
      "[Parallel(n_jobs=1)]: Using backend SequentialBackend with 1 concurrent workers.\n"
     ]
    },
    {
     "name": "stdout",
     "output_type": "stream",
     "text": [
      "0.8597012114744838\n",
      "XGBClassifier(base_score=0.5, booster='gbtree', colsample_bylevel=1,\n",
      "              colsample_bynode=1, colsample_bytree=0.7,\n",
      "              gamma=0.30000000000000004, gpu_id=-1, importance_type='gain',\n",
      "              interaction_constraints='', learning_rate=0.1, max_delta_step=0,\n",
      "              max_depth=3, min_child_weight=3, missing=nan,\n",
      "              monotone_constraints='()', n_estimators=250, n_jobs=0,\n",
      "              num_parallel_tree=1, objective='binary:logistic', random_state=0,\n",
      "              reg_alpha=0, reg_lambda=1, scale_pos_weight=1, subsample=0.9,\n",
      "              tree_method='exact', validate_parameters=1, verbosity=None)\n"
     ]
    },
    {
     "name": "stderr",
     "output_type": "stream",
     "text": [
      "[Parallel(n_jobs=1)]: Done 405 out of 405 | elapsed:   24.8s finished\n"
     ]
    }
   ],
   "source": [
    "subsample = [0.6, 0.65, 0.7, 0.75, 0.8, 0.85, 0.9, 0.95, 1]\n",
    "colsample_bytree = [0.6, 0.65, 0.7, 0.75, 0.8, 0.85, 0.9, 0.95, 1]\n",
    "    \n",
    "hyperparams = {\n",
    "    'subsample': subsample,\n",
    "    'colsample_bytree': colsample_bytree\n",
    "}\n",
    "\n",
    "gs_xgb = GridSearchCV(\n",
    "    estimator=XGBClassifier(\n",
    "        learning_rate=0.1,\n",
    "        n_estimators=250,\n",
    "        max_depth=3,\n",
    "        min_child_weight=3,\n",
    "        gamma=0.30000000000000004\n",
    "    ),\n",
    "    param_grid=hyperparams,\n",
    "    verbose=True,\n",
    "    cv=5,\n",
    "    scoring='accuracy'\n",
    ")\n",
    "\n",
    "gs_xgb.fit(X_train, y_train)\n",
    "print(gs_xgb.best_score_)\n",
    "print(gs_xgb.best_estimator_)"
   ]
  },
  {
   "cell_type": "code",
   "execution_count": 1715,
   "metadata": {
    "ExecuteTime": {
     "end_time": "2020-08-02T17:13:26.291195Z",
     "start_time": "2020-08-02T17:13:24.815679Z"
    }
   },
   "outputs": [
    {
     "name": "stdout",
     "output_type": "stream",
     "text": [
      "Fitting 5 folds for each of 5 candidates, totalling 25 fits\n"
     ]
    },
    {
     "name": "stderr",
     "output_type": "stream",
     "text": [
      "[Parallel(n_jobs=1)]: Using backend SequentialBackend with 1 concurrent workers.\n"
     ]
    },
    {
     "name": "stdout",
     "output_type": "stream",
     "text": [
      "0.8597012114744838\n",
      "XGBClassifier(base_score=0.5, booster='gbtree', colsample_bylevel=1,\n",
      "              colsample_bynode=1, colsample_bytree=0.7,\n",
      "              gamma=0.30000000000000004, gpu_id=-1, importance_type='gain',\n",
      "              interaction_constraints='', learning_rate=0.1, max_delta_step=0,\n",
      "              max_depth=3, min_child_weight=3, missing=nan,\n",
      "              monotone_constraints='()', n_estimators=250, n_jobs=0,\n",
      "              num_parallel_tree=1, objective='binary:logistic', random_state=0,\n",
      "              reg_alpha=1e-05, reg_lambda=1, scale_pos_weight=1, subsample=0.9,\n",
      "              tree_method='exact', validate_parameters=1, verbosity=None)\n"
     ]
    },
    {
     "name": "stderr",
     "output_type": "stream",
     "text": [
      "[Parallel(n_jobs=1)]: Done  25 out of  25 | elapsed:    1.3s finished\n"
     ]
    }
   ],
   "source": [
    "reg_alpha = [1e-5, 1e-2, 0.1, 1, 100]\n",
    "    \n",
    "hyperparams = {'reg_alpha': reg_alpha}\n",
    "\n",
    "gs_xgb = GridSearchCV(\n",
    "    estimator=XGBClassifier(\n",
    "        learning_rate=0.1,\n",
    "        n_estimators=250,\n",
    "        max_depth=3,\n",
    "        min_child_weight=3,\n",
    "        gamma=0.30000000000000004,\n",
    "        subsample=0.9,\n",
    "        colsample_bytree=0.7\n",
    "    ),\n",
    "    param_grid=hyperparams,\n",
    "    verbose=True,\n",
    "    cv=5,\n",
    "    scoring='accuracy'\n",
    ")\n",
    "\n",
    "gs_xgb.fit(X_train, y_train)\n",
    "print(gs_xgb.best_score_)\n",
    "print(gs_xgb.best_estimator_)"
   ]
  },
  {
   "cell_type": "markdown",
   "metadata": {},
   "source": [
    "KNN"
   ]
  },
  {
   "cell_type": "code",
   "execution_count": 1716,
   "metadata": {
    "ExecuteTime": {
     "end_time": "2020-08-02T17:14:52.154648Z",
     "start_time": "2020-08-02T17:13:29.905629Z"
    }
   },
   "outputs": [
    {
     "name": "stdout",
     "output_type": "stream",
     "text": [
      "Fitting 5 folds for each of 1140 candidates, totalling 5700 fits\n"
     ]
    },
    {
     "name": "stderr",
     "output_type": "stream",
     "text": [
      "[Parallel(n_jobs=1)]: Using backend SequentialBackend with 1 concurrent workers.\n"
     ]
    },
    {
     "name": "stdout",
     "output_type": "stream",
     "text": [
      "0.8563367020274935\n",
      "KNeighborsClassifier(algorithm='auto', leaf_size=1, metric='minkowski',\n",
      "                     metric_params=None, n_jobs=None, n_neighbors=8, p=2,\n",
      "                     weights='uniform')\n"
     ]
    },
    {
     "name": "stderr",
     "output_type": "stream",
     "text": [
      "[Parallel(n_jobs=1)]: Done 5700 out of 5700 | elapsed:  1.4min finished\n"
     ]
    }
   ],
   "source": [
    "n_neighbors = [1, 2, 3, 4, 5, 6, 7, 8, 9, 10, 12, 14, 16, 18, 20, 30, 35, 40, 50]\n",
    "algorithm = ['auto']\n",
    "weights = ['uniform', 'distance']\n",
    "leaf_size = [1, 2, 3, 4, 5, 10, 15, 20, 25, 30]\n",
    "p = [1, 2, 3]\n",
    "\n",
    "hyperparams = {\n",
    "    'algorithm': algorithm,\n",
    "    'weights': weights,\n",
    "    'leaf_size': leaf_size,\n",
    "    'n_neighbors': n_neighbors,\n",
    "    'p': p,\n",
    "}\n",
    "\n",
    "gs_knn = GridSearchCV(\n",
    "    estimator=KNeighborsClassifier(),\n",
    "    param_grid=hyperparams,\n",
    "    verbose=True,\n",
    "    cv=5,\n",
    "    scoring='accuracy'\n",
    ")\n",
    "\n",
    "gs_knn.fit(X_train, y_train)\n",
    "print(gs_knn.best_score_)\n",
    "print(gs_knn.best_estimator_)"
   ]
  },
  {
   "cell_type": "markdown",
   "metadata": {},
   "source": [
    "RF"
   ]
  },
  {
   "cell_type": "code",
   "execution_count": 1717,
   "metadata": {
    "ExecuteTime": {
     "end_time": "2020-08-02T17:21:25.322680Z",
     "start_time": "2020-08-02T17:14:52.345618Z"
    }
   },
   "outputs": [
    {
     "name": "stdout",
     "output_type": "stream",
     "text": [
      "Fitting 5 folds for each of 1000 candidates, totalling 5000 fits\n"
     ]
    },
    {
     "name": "stderr",
     "output_type": "stream",
     "text": [
      "[Parallel(n_jobs=1)]: Using backend SequentialBackend with 1 concurrent workers.\n"
     ]
    },
    {
     "name": "stdout",
     "output_type": "stream",
     "text": [
      "0.8596886573347561\n",
      "RandomForestClassifier(bootstrap=True, ccp_alpha=0.0, class_weight=None,\n",
      "                       criterion='gini', max_depth=None, max_features=5,\n",
      "                       max_leaf_nodes=None, max_samples=None,\n",
      "                       min_impurity_decrease=0.0, min_impurity_split=None,\n",
      "                       min_samples_leaf=6, min_samples_split=2,\n",
      "                       min_weight_fraction_leaf=0.0, n_estimators=10,\n",
      "                       n_jobs=None, oob_score=False, random_state=None,\n",
      "                       verbose=0, warm_start=False)\n"
     ]
    },
    {
     "name": "stderr",
     "output_type": "stream",
     "text": [
      "[Parallel(n_jobs=1)]: Done 5000 out of 5000 | elapsed:  6.5min finished\n"
     ]
    }
   ],
   "source": [
    "n_estimators = [10, 25, 50, 75, 100]\n",
    "max_depth = [None, 2]\n",
    "max_features = [1, 3, 5, 7]\n",
    "min_samples_split = [2, 4, 6, 8, 10]\n",
    "min_samples_leaf = [2, 4, 6, 8, 10]\n",
    "\n",
    "hyperparams = {\n",
    "    'n_estimators': n_estimators,\n",
    "    'max_depth': max_depth,\n",
    "    'max_features': max_features,\n",
    "    'min_samples_split': min_samples_split,\n",
    "    'min_samples_leaf': min_samples_leaf\n",
    "}\n",
    "\n",
    "gs_rf = GridSearchCV(\n",
    "    estimator=RandomForestClassifier(),\n",
    "    param_grid=hyperparams,\n",
    "    verbose=True,\n",
    "    cv=5,\n",
    "    scoring='accuracy'\n",
    ")\n",
    "\n",
    "gs_rf.fit(X_train, y_train)\n",
    "print(gs_rf.best_score_)\n",
    "print(gs_rf.best_estimator_)"
   ]
  },
  {
   "cell_type": "code",
   "execution_count": 1718,
   "metadata": {
    "ExecuteTime": {
     "end_time": "2020-08-02T17:21:27.419104Z",
     "start_time": "2020-08-02T17:21:25.507186Z"
    }
   },
   "outputs": [],
   "source": [
    "models = [\n",
    "    gs_rf.best_estimator_,\n",
    "    gs_knn.best_estimator_,\n",
    "    gs_lr.best_estimator_,\n",
    "    gs_xgb.best_estimator_,\n",
    "    gs_svm.best_estimator_\n",
    "]\n",
    "scores_v3 = []\n",
    "\n",
    "for mod in models:\n",
    "    mod.fit(X_train, y_train)\n",
    "    acc = cross_val_score(mod, X_train, y_train, scoring='accuracy', cv=10)\n",
    "    scores_v3.append(acc.mean())"
   ]
  },
  {
   "cell_type": "code",
   "execution_count": 1719,
   "metadata": {
    "ExecuteTime": {
     "end_time": "2020-08-02T17:21:27.610592Z",
     "start_time": "2020-08-02T17:21:27.597627Z"
    }
   },
   "outputs": [
    {
     "data": {
      "text/html": [
       "<div>\n",
       "<style scoped>\n",
       "    .dataframe tbody tr th:only-of-type {\n",
       "        vertical-align: middle;\n",
       "    }\n",
       "\n",
       "    .dataframe tbody tr th {\n",
       "        vertical-align: top;\n",
       "    }\n",
       "\n",
       "    .dataframe thead th {\n",
       "        text-align: right;\n",
       "    }\n",
       "</style>\n",
       "<table border=\"1\" class=\"dataframe\">\n",
       "  <thead>\n",
       "    <tr style=\"text-align: right;\">\n",
       "      <th></th>\n",
       "      <th>Model</th>\n",
       "      <th>First</th>\n",
       "      <th>Delete feature</th>\n",
       "      <th>Hyper parameters</th>\n",
       "    </tr>\n",
       "  </thead>\n",
       "  <tbody>\n",
       "    <tr>\n",
       "      <th>0</th>\n",
       "      <td>SVM</td>\n",
       "      <td>0.850699</td>\n",
       "      <td>0.852959</td>\n",
       "      <td>0.857428</td>\n",
       "    </tr>\n",
       "    <tr>\n",
       "      <th>1</th>\n",
       "      <td>K Nearest Neighbour</td>\n",
       "      <td>0.844007</td>\n",
       "      <td>0.841785</td>\n",
       "      <td>0.854082</td>\n",
       "    </tr>\n",
       "    <tr>\n",
       "      <th>2</th>\n",
       "      <td>XGBoost</td>\n",
       "      <td>0.842921</td>\n",
       "      <td>0.851898</td>\n",
       "      <td>0.852996</td>\n",
       "    </tr>\n",
       "    <tr>\n",
       "      <th>3</th>\n",
       "      <td>Random Forest</td>\n",
       "      <td>0.839526</td>\n",
       "      <td>0.850774</td>\n",
       "      <td>0.847366</td>\n",
       "    </tr>\n",
       "    <tr>\n",
       "      <th>4</th>\n",
       "      <td>Logistic Regression</td>\n",
       "      <td>0.841785</td>\n",
       "      <td>0.840662</td>\n",
       "      <td>0.840662</td>\n",
       "    </tr>\n",
       "  </tbody>\n",
       "</table>\n",
       "</div>"
      ],
      "text/plain": [
       "                 Model     First  Delete feature  Hyper parameters\n",
       "0                  SVM  0.850699        0.852959          0.857428\n",
       "1  K Nearest Neighbour  0.844007        0.841785          0.854082\n",
       "2              XGBoost  0.842921        0.851898          0.852996\n",
       "3        Random Forest  0.839526        0.850774          0.847366\n",
       "4  Logistic Regression  0.841785        0.840662          0.840662"
      ]
     },
     "execution_count": 1719,
     "metadata": {},
     "output_type": "execute_result"
    }
   ],
   "source": [
    "results = pd.DataFrame({\n",
    "    'Model': [\n",
    "        'Random Forest',\n",
    "        'K Nearest Neighbour',\n",
    "        'Logistic Regression',\n",
    "        'XGBoost',\n",
    "        'SVM'\n",
    "    ],\n",
    "    'First': scores,\n",
    "    'Delete feature': scores_v2,\n",
    "    'Hyper parameters': scores_v3})\n",
    "\n",
    "acc_rank = results.sort_values(by='Hyper parameters', ascending=False).reset_index(drop=True)\n",
    "acc_rank"
   ]
  },
  {
   "cell_type": "code",
   "execution_count": 1720,
   "metadata": {
    "ExecuteTime": {
     "end_time": "2020-08-02T17:21:35.988759Z",
     "start_time": "2020-08-02T17:21:35.984771Z"
    }
   },
   "outputs": [],
   "source": [
    "# grid_hard = VotingClassifier(\n",
    "#     estimators = [\n",
    "#         ('Random Forest', rf),\n",
    "#         ('Logistic Regression', lr),\n",
    "#         ('XGBoost', xgb),\n",
    "#         ('SVM', svm),\n",
    "#         ('K Nearest Neighbour', knn)\n",
    "#     ],\n",
    "#     voting = 'hard'\n",
    "# )\n",
    "\n",
    "# grid_hard_cv = model_selection.cross_validate(grid_hard, X_train, y_train, cv=10)\n",
    "# grid_hard.fit(X_train, y_train)\n",
    "\n",
    "# grid_hard_cv['test_score'].mean()"
   ]
  },
  {
   "cell_type": "code",
   "execution_count": 1721,
   "metadata": {
    "ExecuteTime": {
     "end_time": "2020-08-02T17:21:37.444179Z",
     "start_time": "2020-08-02T17:21:37.441159Z"
    }
   },
   "outputs": [],
   "source": [
    "# grid_soft = VotingClassifier(\n",
    "#     estimators = [\n",
    "#         ('Random Forest', rf),\n",
    "#         ('Logistic Regression', lr),\n",
    "#         ('XGBoost', xgb),\n",
    "#         ('SVM', svm),\n",
    "#         ('K Nearest Neighbour', knn)\n",
    "#     ],\n",
    "#     voting = 'soft'\n",
    "# )\n",
    "\n",
    "# grid_soft_cv = model_selection.cross_validate(grid_soft, X_train, y_train, cv=10)\n",
    "# grid_soft.fit(X_train, y_train)\n",
    "\n",
    "# grid_soft_cv['test_score'].mean()"
   ]
  },
  {
   "cell_type": "code",
   "execution_count": 1722,
   "metadata": {
    "ExecuteTime": {
     "end_time": "2020-08-02T17:21:38.348338Z",
     "start_time": "2020-08-02T17:21:38.344361Z"
    },
    "scrolled": true
   },
   "outputs": [],
   "source": [
    "# predictions = grid_hard.predict(X_test)\n",
    "\n",
    "# submission = pd.concat([pd.DataFrame(passId), pd.DataFrame(predictions)], axis = 'columns')\n",
    "\n",
    "# submission.columns = ['PassengerId', 'Survived']\n",
    "# submission.to_csv('D:/JISUNG/dacon/titanic/submission.csv', header = True, index = False)"
   ]
  },
  {
   "cell_type": "code",
   "execution_count": 1725,
   "metadata": {
    "ExecuteTime": {
     "end_time": "2020-08-02T17:22:21.509698Z",
     "start_time": "2020-08-02T17:22:21.496732Z"
    },
    "scrolled": true
   },
   "outputs": [],
   "source": [
    "predictions = gs_svm.best_estimator_.predict(X_test)\n",
    "\n",
    "submission = pd.concat([pd.DataFrame(passId), pd.DataFrame(predictions)], axis = 'columns')\n",
    "\n",
    "submission.columns = ['PassengerId', 'Survived']\n",
    "submission.to_csv('D:/JISUNG/dacon/titanic/submission.csv', header = True, index = False)"
   ]
  }
 ],
 "metadata": {
  "hide_input": false,
  "kernelspec": {
   "display_name": "Python 3",
   "language": "python",
   "name": "python3"
  },
  "language_info": {
   "codemirror_mode": {
    "name": "ipython",
    "version": 3
   },
   "file_extension": ".py",
   "mimetype": "text/x-python",
   "name": "python",
   "nbconvert_exporter": "python",
   "pygments_lexer": "ipython3",
   "version": "3.7.6"
  },
  "varInspector": {
   "cols": {
    "lenName": 16,
    "lenType": 16,
    "lenVar": 40
   },
   "kernels_config": {
    "python": {
     "delete_cmd_postfix": "",
     "delete_cmd_prefix": "del ",
     "library": "var_list.py",
     "varRefreshCmd": "print(var_dic_list())"
    },
    "r": {
     "delete_cmd_postfix": ") ",
     "delete_cmd_prefix": "rm(",
     "library": "var_list.r",
     "varRefreshCmd": "cat(var_dic_list()) "
    }
   },
   "types_to_exclude": [
    "module",
    "function",
    "builtin_function_or_method",
    "instance",
    "_Feature"
   ],
   "window_display": false
  }
 },
 "nbformat": 4,
 "nbformat_minor": 4
}
